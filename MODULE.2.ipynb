{
 "cells": [
  {
   "cell_type": "code",
   "execution_count": null,
   "id": "45fdd89c",
   "metadata": {},
   "outputs": [],
   "source": [
    "#1.Write a Python program to check if a number is positive, negative or zero.\n",
    "\n",
    "a = float(input())\n",
    "if a > 0:\n",
    "    print(\"positive number\")\n",
    "elif a == 0:\n",
    "    print(\"Zero\")   \n",
    "else:\n",
    "    print(\"Negative number\")"
   ]
  },
  {
   "cell_type": "code",
   "execution_count": null,
   "id": "5da1ff05",
   "metadata": {},
   "outputs": [],
   "source": [
    "#2.Write a Python program to get the Factorial number of given number.\n",
    "\n",
    "n = int(input())\n",
    "factorial = 1\n",
    "if n <0:\n",
    "    print()\n",
    "elif n == 0:\n",
    "    print()\n",
    "else:\n",
    "    for i in range(1,n + 1):\n",
    "        factorial = factorial*i\n",
    "        print(factorial)"
   ]
  },
  {
   "cell_type": "code",
   "execution_count": null,
   "id": "14a160e3",
   "metadata": {},
   "outputs": [],
   "source": [
    "#3.Write a Python program to get the Fibonacci series of given range.\n",
    "\n",
    "a = 10\n",
    "n1,n2 = 0,1\n",
    "print(n1,n2)\n",
    "for i in range(2,a):\n",
    "    n3 = n1 + n2\n",
    "    n1 = n2\n",
    "    n2 = n3\n",
    "    print(n3)"
   ]
  },
  {
   "cell_type": "code",
   "execution_count": null,
   "id": "a1504cbb",
   "metadata": {},
   "outputs": [],
   "source": [
    "#4.How memory is managed in Python?\n"
   ]
  },
  {
   "cell_type": "code",
   "execution_count": null,
   "id": "aa8d07ac",
   "metadata": {},
   "outputs": [],
   "source": [
    "#5.What is the purpose continue statement in python?\n"
   ]
  },
  {
   "cell_type": "code",
   "execution_count": null,
   "id": "6bce83a6",
   "metadata": {},
   "outputs": [],
   "source": [
    "#6.Write python program that swap two number with temp variable and without temp variable.\n",
    "\n",
    "a = 10\n",
    "b = 35\n",
    "print(a,b)\n",
    "a , b = b , a\n",
    "print(a , b)"
   ]
  },
  {
   "cell_type": "code",
   "execution_count": null,
   "id": "41de118f",
   "metadata": {},
   "outputs": [],
   "source": [
    "#7.Write a Python program to find whether a given number is even or odd,print out an appropriate message to the user.\n",
    "\n",
    "a = int(input())\n",
    "if (a % 2) == 0:\n",
    "    print(\"even \")\n",
    "else:\n",
    "    print(\"odd \")"
   ]
  },
  {
   "cell_type": "code",
   "execution_count": null,
   "id": "e37dc157",
   "metadata": {},
   "outputs": [],
   "source": [
    "#8.Write a Python program to test whether a passed letter is a vowel or not.\n",
    "\n",
    "a = input()\n",
    "vowel = 'jeelMEET'\n",
    "if a in vowel:\n",
    "    print(a)\n",
    "else:\n",
    "    print(a)"
   ]
  },
  {
   "cell_type": "code",
   "execution_count": null,
   "id": "488468ab",
   "metadata": {},
   "outputs": [],
   "source": [
    "#9.Write a Python program to sum of three given integers.However, if two values are equal sum will be zero\n",
    "\n",
    "a = int(input())\n",
    "b = int(input())\n",
    "c = int(input())\n",
    "if a == b or b == c or a == c:\n",
    "    print(\"zero\")\n",
    "else:\n",
    "    print(a + b + c)"
   ]
  },
  {
   "cell_type": "code",
   "execution_count": null,
   "id": "43fff9ff",
   "metadata": {},
   "outputs": [],
   "source": [
    "#10.Write a Python program that will return true ifthe two given integervalues are equal or their sum or difference is 5.\n",
    "\n",
    "a = int(input())\n",
    "b = int(input())\n",
    "c = int(input())\n",
    "z=a+b+c\n",
    "if  a==b or a+b==5 or a-b==5 or b-a==5:\n",
    "    print()\n",
    "else:\n",
    "    print(z)"
   ]
  },
  {
   "cell_type": "code",
   "execution_count": null,
   "id": "60f9ec0e",
   "metadata": {},
   "outputs": [],
   "source": [
    "#11.Write a python program to sum of the first n positive integers.\n",
    "\n",
    "a = int(input())\n",
    "sum = 0\n",
    "for i in range(1,a+1):\n",
    "    sum = sum + i\n",
    "print(sum)"
   ]
  },
  {
   "cell_type": "code",
   "execution_count": null,
   "id": "7ee879a6",
   "metadata": {},
   "outputs": [],
   "source": [
    "#12.Write a Python program to calculate the length of a string.\n",
    "\n",
    "str = input()\n",
    "counter = 0\n",
    "for s in str:\n",
    "    counter = counter+1\n",
    "print(counter)"
   ]
  },
  {
   "cell_type": "code",
   "execution_count": null,
   "id": "7932610b",
   "metadata": {},
   "outputs": [],
   "source": [
    "#13.Write a Python program to count the number of characters (character frequency) in a string\n",
    "\n",
    "str1 = input()\n",
    "d = dict()\n",
    "for c in str1:\n",
    "    if c in d:\n",
    "        d[c] = d[c] + 1\n",
    "    else:\n",
    "        d[c] = 1\n",
    "print(d)"
   ]
  },
  {
   "cell_type": "code",
   "execution_count": null,
   "id": "67d497af",
   "metadata": {},
   "outputs": [],
   "source": [
    "#14.What are negative indexes and why are they used?\n",
    "\n",
    "a = [10,20,30,40,50]\n",
    "print(a[-1::-2])"
   ]
  },
  {
   "cell_type": "code",
   "execution_count": null,
   "id": "47b90bd1",
   "metadata": {},
   "outputs": [],
   "source": [
    "#15.Write a Python program to count occurrences of a substring in a string\n",
    "\n",
    "str1 = 'Hello world . Hello.'\n",
    "substr = 'Hello'\n",
    "count = str1.count(substr)\n",
    "print(count)"
   ]
  },
  {
   "cell_type": "code",
   "execution_count": null,
   "id": "33f048c1",
   "metadata": {},
   "outputs": [],
   "source": [
    " #16.Write a Python program to count the occurrences of each word in a given sentence\n",
    "    \n",
    "str = \"To change the overall look your document. To change the look available in the gallery\"\n",
    "c = dict()\n",
    "txt = str.split(\" \")\n",
    "for t in txt:\n",
    "    if t in c:\n",
    "        c[t] += 1\n",
    "    else:\n",
    "        c[t] = 1\n",
    "print(c)"
   ]
  },
  {
   "cell_type": "code",
   "execution_count": null,
   "id": "bd3c8c3e",
   "metadata": {},
   "outputs": [],
   "source": [
    "#17.Write a Python program to get a single string from two given strings,separated by a space and swap the first two characters of each string.\n",
    "\n",
    "str1 = input()\n",
    "str2 =input()\n",
    "x=str1[0:2]\n",
    "str1=str1.replace(str1[0:2],str2[0:2])\n",
    "str2=str2.replace(str2[0:2],x)\n",
    " \n",
    "print(str1)\n",
    "print(str2)"
   ]
  },
  {
   "cell_type": "code",
   "execution_count": null,
   "id": "b3def040",
   "metadata": {},
   "outputs": [],
   "source": [
    "#18.Write a Python program to add 'ing' at the end of a given string (length should be at least 3). If the given string already ends with 'ing' then add 'ly'insteadif the string length of the given string is less than 3, leave it unchanged.\n",
    "\n",
    "string = input()\n",
    "if string.endswith('ing'):\n",
    "    string += 'ly'\n",
    "elif len(string) >= 3:\n",
    "    string += 'ing'\n",
    "print(string)"
   ]
  },
  {
   "cell_type": "code",
   "execution_count": null,
   "id": "2508eb9e",
   "metadata": {},
   "outputs": [],
   "source": [
    "#19.Write a Python program to find the first appearance of the substring 'not' and 'poor' froma given string, if 'not' follows the 'poor', replace the whole 'not'...'poor'substring with 'good'. Return the resulting string.-\n",
    "\n",
    "def not_poor(str1):\n",
    "    snot = str1\n",
    "    spoor = str1\n",
    "    if spoor > snot and snot>0 and spoor>0:\n",
    "        str1 = str1.replace(str1[snot:(spoor+4)],'good')\n",
    "        return str1\n",
    "    else:\n",
    "        return str1\n",
    "print(not_poor('the lyrics is not that good!'))\n",
    "print(not_poor('the lyrics is poor!'))"
   ]
  },
  {
   "cell_type": "code",
   "execution_count": null,
   "id": "52788fb2",
   "metadata": {},
   "outputs": [],
   "source": [
    "#20.Write a Python function that takes a list of words and returns the length of the longest one.\n",
    "\n",
    "str1 = list(input())\n",
    "maxLength = len(str1[0])\n",
    "word = list[0]\n",
    "for i in str1:\n",
    "    if(len(i) > maxLength):\n",
    "        maxLength = len(i)\n",
    "        word = i\n",
    "print()\n",
    "print(word)"
   ]
  },
  {
   "cell_type": "code",
   "execution_count": null,
   "id": "f5dffc40",
   "metadata": {},
   "outputs": [],
   "source": [
    "#21.Write a Python function to reverses a string if its length is a multiple of 4\n",
    "\n",
    "str=input()\n",
    "if len(str) % 4 == 0:\n",
    "    print(''.join(reversed(str)))\n",
    "else:\n",
    "    print(str)"
   ]
  },
  {
   "cell_type": "code",
   "execution_count": null,
   "id": "43ff0e00",
   "metadata": {},
   "outputs": [],
   "source": [
    "#22. Write a Python program to get a string made of the first 2 and the last 2 chars from a given a string. Ifthe string length islessthan 2,return instead of the empty string.\n",
    "\n",
    "a = input()\n",
    "b = input()\n",
    "x = len(a)\n",
    "y = len(b)\n",
    "if x > y:\n",
    "    print(a)\n",
    "elif x==y:\n",
    "    print(\"string lrngth is equal\")\n",
    "else:\n",
    "    print(b)"
   ]
  },
  {
   "cell_type": "code",
   "execution_count": null,
   "id": "b6128ba5",
   "metadata": {},
   "outputs": [],
   "source": [
    "#23.Write a Python function to insert a string in the middle of a string\n",
    "\n",
    "lis = ['Geeks', 'Geeks']\n",
    "lis.insert(1, \"For\")\n",
    "print(lis)"
   ]
  }
 ],
 "metadata": {
  "kernelspec": {
   "display_name": "Python 3 (ipykernel)",
   "language": "python",
   "name": "python3"
  },
  "language_info": {
   "codemirror_mode": {
    "name": "ipython",
    "version": 3
   },
   "file_extension": ".py",
   "mimetype": "text/x-python",
   "name": "python",
   "nbconvert_exporter": "python",
   "pygments_lexer": "ipython3",
   "version": "3.9.12"
  }
 },
 "nbformat": 4,
 "nbformat_minor": 5
}
