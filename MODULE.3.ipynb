{
 "cells": [
  {
   "cell_type": "code",
   "execution_count": 3,
   "id": "29aab45e",
   "metadata": {},
   "outputs": [
    {
     "name": "stdout",
     "output_type": "stream",
     "text": [
      "[10, 9, 8, 7, 6, 5, 4, 3, 2, 1]\n"
     ]
    }
   ],
   "source": [
    "#1.What is List? How will you reverse a list?\n",
    "\n",
    "str1 = [1,2,3,4,5,6,7,8,9,10]\n",
    "str1.reverse()\n",
    "print(str1)"
   ]
  },
  {
   "cell_type": "code",
   "execution_count": 2,
   "id": "f719929b",
   "metadata": {},
   "outputs": [
    {
     "name": "stdout",
     "output_type": "stream",
     "text": [
      "[2, 1, 1, 4, 5]\n"
     ]
    }
   ],
   "source": [
    "#2.How will you remove last object from a list?\n",
    "\n",
    "list1 = [ 1, 2, 1, 1, 4, 5 ]\n",
    "list1.remove(1)\n",
    "print(list1)"
   ]
  },
  {
   "cell_type": "code",
   "execution_count": 2,
   "id": "f16cdf92",
   "metadata": {},
   "outputs": [
    {
     "data": {
      "text/plain": [
       "25"
      ]
     },
     "execution_count": 2,
     "metadata": {},
     "output_type": "execute_result"
    }
   ],
   "source": [
    "#3.Suppose list1 is [2, 33, 222, 14, and 25], what is list1 [-1]?\n",
    "\n",
    "list1 = [2, 33, 222, 14, 25]\n",
    "list1[-1]"
   ]
  },
  {
   "cell_type": "code",
   "execution_count": 3,
   "id": "8f535c5d",
   "metadata": {},
   "outputs": [
    {
     "name": "stdout",
     "output_type": "stream",
     "text": [
      "[1, 2, 3, 4, 'phtyon']\n",
      "[1, 2, 3, 4, 'phtyon', 'p', 'h', 't', 'y', 'o', 'n']\n"
     ]
    }
   ],
   "source": [
    "#4.Differentiate between append () and extend () methods?\n",
    "\n",
    "str1 = 'phtyon'\n",
    "list1 = [1,2,3,4]\n",
    "list1.append(str1)\n",
    "print(list1)\n",
    "list1.extend(str1)\n",
    "print(list1)"
   ]
  },
  {
   "cell_type": "code",
   "execution_count": null,
   "id": "751d752d",
   "metadata": {},
   "outputs": [],
   "source": [
    "#5.Write a Python function to get the largest number,smallest num and sum of all from a list.\n",
    "\n"
   ]
  },
  {
   "cell_type": "code",
   "execution_count": 7,
   "id": "393b72d7",
   "metadata": {},
   "outputs": [
    {
     "name": "stdout",
     "output_type": "stream",
     "text": [
      "False\n"
     ]
    }
   ],
   "source": [
    "#6.How will you compare two lists?\n",
    "\n",
    "list1 = [1, 2, 3, 4, 5]\n",
    "list2 = [1, 2, 3, 4, 5]\n",
    "\n",
    "if list1 == list2:\n",
    "        print(False)\n",
    "else:\n",
    "    print(True)"
   ]
  },
  {
   "cell_type": "code",
   "execution_count": 10,
   "id": "ffa9fe1b",
   "metadata": {},
   "outputs": [
    {
     "name": "stdout",
     "output_type": "stream",
     "text": [
      "423657\n",
      "['423657']\n",
      "0\n"
     ]
    }
   ],
   "source": [
    "#7.Write a Python program to count the number of strings where the string length is 2 or more and the first and last character are same from a given list of strings \n",
    "\n",
    "list1 = input()\n",
    "list1 = list1.split(' ')\n",
    "print(list1)\n",
    "count = 0\n",
    "for element in list1:\n",
    "    if len(element)>=2 and element[0]==element[-1]:\n",
    "        count = count + 1\n",
    "print(count)"
   ]
  },
  {
   "cell_type": "code",
   "execution_count": 8,
   "id": "5e99bc57",
   "metadata": {},
   "outputs": [
    {
     "name": "stdout",
     "output_type": "stream",
     "text": [
      "[1, 2, 3, 2, 4, 8, 9, 1, 7, 6, 4, 5]\n",
      "[1, 2, 3, 4, 5, 6, 7, 8, 9]\n"
     ]
    }
   ],
   "source": [
    "#8.Write a Python program to remove duplicates from a list.\n",
    "\n",
    "str1 = [1, 2, 3, 2, 4, 8, 9, 1, 7, 6, 4, 5]\n",
    "print(str1)\n",
    "\n",
    "var1 = set(str1)\n",
    "list1= list(var1)\n",
    "   \n",
    "print(list1)"
   ]
  },
  {
   "cell_type": "code",
   "execution_count": 12,
   "id": "9b30785d",
   "metadata": {},
   "outputs": [
    {
     "name": "stdout",
     "output_type": "stream",
     "text": [
      "Not Empty\n"
     ]
    }
   ],
   "source": [
    "#9.Write a Python program to check a list is empty or not.\n",
    "\n",
    "list1 = [1,3,5]\n",
    "\n",
    "if len(list1) == 0:\n",
    "    print(\"Empty list\")\n",
    "else:\n",
    "    print(\"Not Empty list\")"
   ]
  },
  {
   "cell_type": "code",
   "execution_count": null,
   "id": "8d7e1452",
   "metadata": {},
   "outputs": [],
   "source": [
    "#10.Write a Python function that takes two lists and returns true if they have at least one common member\n",
    "\n"
   ]
  },
  {
   "cell_type": "code",
   "execution_count": 13,
   "id": "fbad0f42",
   "metadata": {},
   "outputs": [
    {
     "name": "stdout",
     "output_type": "stream",
     "text": [
      "[1, 4, 9, 16, 25, 36, 49, 64, 81, 100, 121, 144, 169, 196, 225, 256, 289, 324, 361, 400, 441, 484, 529, 576, 625, 676, 729, 784, 841, 900]\n",
      "new list :- [1, 4, 9, 16, 25, 676, 729, 784, 841, 900]\n"
     ]
    }
   ],
   "source": [
    "#11.Write a Python program to generate and print a list of first and last 5 elements where the values are square of numbers between 1 and 30.\n",
    "\n",
    "list1 = []\n",
    "for i in range(1,31):\n",
    "    list1 = list1 + [i*i]\n",
    "print(list1)\n",
    "new_list = list1[:5] + list1[-5:]\n",
    "print('new list :-',new_list)"
   ]
  },
  {
   "cell_type": "code",
   "execution_count": null,
   "id": "4f54dc3d",
   "metadata": {},
   "outputs": [],
   "source": [
    "#12.Write a Python function that takes a list and returns a new list with unique elements of the first list.\n",
    "\n",
    "\n"
   ]
  },
  {
   "cell_type": "code",
   "execution_count": 15,
   "id": "2e7c5099",
   "metadata": {},
   "outputs": [
    {
     "name": "stdout",
     "output_type": "stream",
     "text": [
      "jeel\n"
     ]
    }
   ],
   "source": [
    "#13.Write a Python program to convert a list of characters into a string.\n",
    "\n",
    "list1 = ['j','e','e','l']\n",
    "str1 = ''\n",
    "for i in list1:\n",
    "    str(i) \n",
    "    str1 = str1 + i\n",
    "print(str1)\n"
   ]
  },
  {
   "cell_type": "code",
   "execution_count": null,
   "id": "cc16fa58",
   "metadata": {},
   "outputs": [],
   "source": [
    "#14.Write a Python program to select an item randomly from a list.\n",
    "\n",
    "\n"
   ]
  },
  {
   "cell_type": "code",
   "execution_count": 16,
   "id": "07daa426",
   "metadata": {},
   "outputs": [
    {
     "name": "stdout",
     "output_type": "stream",
     "text": [
      "[1, 2, 3, 4, 9, 5, 6, -2, 7, 8]\n",
      "-2\n"
     ]
    }
   ],
   "source": [
    "#15.Write a Python program to find the second smallest number in a list.\n",
    "\n",
    "list1 = [1,2,3,4,9,5,6,-2,-3,7,8]\n",
    "a = min(list1)\n",
    "list2 = []\n",
    "for i in list1:\n",
    "    if i==a:\n",
    "        continue\n",
    "    else:\n",
    "        i = [i]\n",
    "        list2 = list2 + i\n",
    "print(list2)\n",
    "print(min(list2))"
   ]
  },
  {
   "cell_type": "code",
   "execution_count": 17,
   "id": "43418893",
   "metadata": {},
   "outputs": [
    {
     "name": "stdout",
     "output_type": "stream",
     "text": [
      " 1 2 3 python [1, 2]\n"
     ]
    }
   ],
   "source": [
    "#16.Write a Python program to get unique values from a list\n",
    "\n",
    "list1 = [1,2,3,\"python\",[1,2]]\n",
    "unique = ''\n",
    "for i in list1:\n",
    "    if list1.count(i)==1:\n",
    "        unique = unique +' '+ str(i)\n",
    "    else:\n",
    "        pass\n",
    "print(unique)"
   ]
  },
  {
   "cell_type": "code",
   "execution_count": 20,
   "id": "2037a6e3",
   "metadata": {},
   "outputs": [
    {
     "name": "stdout",
     "output_type": "stream",
     "text": [
      "563957123456\n",
      "3457\n",
      "\n",
      "<class 'int'>\n",
      "<class 'str'>\n",
      "90\n",
      "90\n"
     ]
    }
   ],
   "source": [
    "#17. Write a python program to check whether a list contains a sublist\n",
    "\n",
    "list1 = [5,6,3,9,5,7,1,2,3,4,5,6]\n",
    "sub_list = [3,4,5,7]\n",
    "string = ''\n",
    "sub_string = ''\n",
    "for i in list1:\n",
    "    i=str(i)\n",
    "    string = string + i\n",
    "print(string)\n",
    "for i in sub_list:\n",
    "    i=str(i)\n",
    "    sub_string = sub_string + i\n",
    "print(sub_string)\n",
    "if sub_string in string:\n",
    "    print()\n",
    "else: \n",
    "    print()\n",
    "a = 90\n",
    "b = str(a)\n",
    "print(type(a))\n",
    "print(type(b))\n",
    "print(a)\n",
    "print(b)"
   ]
  },
  {
   "cell_type": "code",
   "execution_count": 21,
   "id": "39c76f7a",
   "metadata": {},
   "outputs": [
    {
     "name": "stdout",
     "output_type": "stream",
     "text": [
      "1 2 3 4\n"
     ]
    }
   ],
   "source": [
    "#18. Write a python program to split a list into different variables\n",
    "\n",
    "list1 = [1,2,3,4]\n",
    "l1 = list1[0]\n",
    "l2 = list1[1]\n",
    "l3 = list1[2]\n",
    "l4 = list1[3]\n",
    "print(l1,l2,l3,l4)"
   ]
  },
  {
   "cell_type": "code",
   "execution_count": null,
   "id": "5cfecc46",
   "metadata": {},
   "outputs": [],
   "source": [
    "#19.What is tuple? Difference between list and tuple.\n",
    "\n"
   ]
  },
  {
   "cell_type": "code",
   "execution_count": 22,
   "id": "c08da732",
   "metadata": {},
   "outputs": [
    {
     "name": "stdout",
     "output_type": "stream",
     "text": [
      "(1, 2, 'yg', 5.6, ['apple', 34, 6.7], {1, 2, 3}, {'y': 33, 'ha': 98}, (5, 6, 7))\n"
     ]
    }
   ],
   "source": [
    "#20. Write a python program to create a tuple with different data types.\n",
    "\n",
    "tuple1 = (1,2,'yg',5.6,['apple',34,6.7],{1,2,3},{'y':33,'ha':98},(5,6,7))\n",
    "print(tuple1)"
   ]
  },
  {
   "cell_type": "code",
   "execution_count": 23,
   "id": "dcf0b789",
   "metadata": {},
   "outputs": [
    {
     "name": "stdout",
     "output_type": "stream",
     "text": [
      "(1, 2, 3, 4, 5)\n",
      "(23,)\n"
     ]
    }
   ],
   "source": [
    "#21. Write a Python program to create a tuple with numbers.\n",
    "\n",
    "t1 = (1,2,3,4,5)\n",
    "t2 = (23,)\n",
    "print(t1)\n",
    "print(t2)"
   ]
  },
  {
   "cell_type": "code",
   "execution_count": 24,
   "id": "1c0a54e1",
   "metadata": {},
   "outputs": [
    {
     "name": "stdout",
     "output_type": "stream",
     "text": [
      "12345[1, 23]('yug',){'neha': 98}{1, 2, 'yug'}\n"
     ]
    },
    {
     "data": {
      "text/plain": [
       "str"
      ]
     },
     "execution_count": 24,
     "metadata": {},
     "output_type": "execute_result"
    }
   ],
   "source": [
    "#22. Write a Python program to convert a tuple to a string.\n",
    "\n",
    "\n",
    "tuple1 = (1,2,3,4,5,[1,23],('yug',),{'neha':98},{1,2,'yug'})\n",
    "string = ''\n",
    "for i in tuple1:\n",
    "    i = str(i)\n",
    "    string = string + i\n",
    "print(string)\n",
    "type(string)"
   ]
  },
  {
   "cell_type": "code",
   "execution_count": 26,
   "id": "019f08ff",
   "metadata": {},
   "outputs": [
    {
     "name": "stdout",
     "output_type": "stream",
     "text": [
      "Element exist\n"
     ]
    }
   ],
   "source": [
    "#23. Write a python program to  check whether an element exists within a tuple.\n",
    "\n",
    "\n",
    "tuple1 = (1,2,3,(23,),42,'yug',4.4,{'yug':99},[9,8,7])\n",
    "element = (23,)\n",
    "if element in tuple1:\n",
    "    print('Element exist')\n",
    "else:\n",
    "    print('Element don\\'t exist')"
   ]
  },
  {
   "cell_type": "code",
   "execution_count": 33,
   "id": "5cec0919",
   "metadata": {},
   "outputs": [
    {
     "name": "stdout",
     "output_type": "stream",
     "text": [
      "6\n"
     ]
    }
   ],
   "source": [
    "#24. Write a Python program to find the length of tuple.\n",
    "\n",
    "tuple1 = (1,2,3,4,5,65)\n",
    "length = len(tuple1)\n",
    "print(length)"
   ]
  },
  {
   "cell_type": "code",
   "execution_count": 29,
   "id": "3e87d1c6",
   "metadata": {},
   "outputs": [
    {
     "name": "stdout",
     "output_type": "stream",
     "text": [
      "(1, 2, 3, 4, 5)\n",
      "<class 'tuple'>\n"
     ]
    }
   ],
   "source": [
    "#25. Write a Python program to convert a list to a tuple.\n",
    "\n",
    "list1 = [1,2,3,4,5]\n",
    "list1 = tuple(list1)\n",
    "print(list1)\n",
    "print(type(list1))"
   ]
  },
  {
   "cell_type": "code",
   "execution_count": 30,
   "id": "6cff4b2c",
   "metadata": {},
   "outputs": [
    {
     "name": "stdout",
     "output_type": "stream",
     "text": [
      "(6, 5, 4, 3, 2, 1)\n"
     ]
    }
   ],
   "source": [
    "#26. Write a python program to reverse a tuple.\n",
    "\n",
    "tuple1 = (1,2,3,4,5,6)\n",
    "tuple1 = tuple1[-1::-1]\n",
    "print(tuple1)"
   ]
  },
  {
   "cell_type": "code",
   "execution_count": 31,
   "id": "397345d9",
   "metadata": {},
   "outputs": [
    {
     "name": "stdout",
     "output_type": "stream",
     "text": [
      "(1, 2, 3, 4, [5])\n",
      "<class 'list'>\n"
     ]
    }
   ],
   "source": [
    "#27. Write a python program to replace last value of tuples in a list.\n",
    "\n",
    "T1 = (1,2,3,4,5)\n",
    "L1 = list(T1)\n",
    "L1[-1] = list([L1[-1]])\n",
    "T1 = tuple(L1)\n",
    "print(T1)\n",
    "print(type(T1[-1]))"
   ]
  },
  {
   "cell_type": "code",
   "execution_count": 32,
   "id": "df880bdf",
   "metadata": {},
   "outputs": [
    {
     "name": "stdout",
     "output_type": "stream",
     "text": [
      "('3', '1')\n"
     ]
    }
   ],
   "source": [
    "#28. Write a python program to find the repeated items of tuple.\n",
    "\n",
    "tuple1 = (1,2,3,4,3,1)\n",
    "repeated = ''\n",
    "non_repeated = ''\n",
    "for item in tuple1:\n",
    "    item = str(item)\n",
    "    if item in non_repeated:\n",
    "        repeated = repeated + item\n",
    "    else:\n",
    "        non_repeated = non_repeated + item\n",
    "repeated = tuple(repeated)\n",
    "print(repeated)"
   ]
  },
  {
   "cell_type": "code",
   "execution_count": 35,
   "id": "284a77ed",
   "metadata": {},
   "outputs": [
    {
     "name": "stdout",
     "output_type": "stream",
     "text": [
      "[(1, 2), ('python', 'tandel'), (34, 4.5, [0, 9])]\n"
     ]
    }
   ],
   "source": [
    "#29. Write a python program to remove an empty tuple(s) from a list of tuples.\n",
    "\n",
    "list_of_tuples = [(1,2),(    ),('python','tandel'),(),(34,4.5,[0,9])]\n",
    "for i in list_of_tuples:\n",
    "    if len(i)==0:\n",
    "        list_of_tuples.remove(i)\n",
    "    else:\n",
    "        continue\n",
    "print(list_of_tuples)"
   ]
  },
  {
   "cell_type": "code",
   "execution_count": 36,
   "id": "e5a945c8",
   "metadata": {},
   "outputs": [
    {
     "name": "stdout",
     "output_type": "stream",
     "text": [
      "[1, 2]\n",
      "[]\n",
      "['python', 'tandel']\n",
      "[]\n",
      "[34, 4.5, [0, 9]]\n"
     ]
    }
   ],
   "source": [
    "#30.Write a python program to unzip a list of tuples into individual lists.\n",
    "\n",
    "list_of_tuples = [(1,2),(    ),('python','tandel'),(),(34,4.5,[0,9])]\n",
    "(t1,t2,t3,t4,t5) = list_of_tuples\n",
    "\n",
    "t1 = list(t1)\n",
    "t2 = list(t2)\n",
    "t3 = list(t3)\n",
    "t4 = list(t4)\n",
    "t5 = list(t5)\n",
    "print(t1)\n",
    "print(t2)\n",
    "print(t3)\n",
    "print(t4)\n",
    "print(t5)"
   ]
  },
  {
   "cell_type": "code",
   "execution_count": 37,
   "id": "413ee6ee",
   "metadata": {},
   "outputs": [
    {
     "name": "stdout",
     "output_type": "stream",
     "text": [
      "{1: 'one', 2: 'two', 3: 'three'}\n"
     ]
    }
   ],
   "source": [
    "#31.Write a python program to convert a list of tuple into dictionary.\n",
    "\n",
    "tuple_list = [(1,'one'),(2,'two'),(3,'three')]\n",
    "n = {}\n",
    "n.update(tuple_list)\n",
    "tuple_list = n.copy()\n",
    "print(tuple_list)"
   ]
  },
  {
   "cell_type": "code",
   "execution_count": 38,
   "id": "129e1d9f",
   "metadata": {},
   "outputs": [
    {
     "name": "stdout",
     "output_type": "stream",
     "text": [
      "{1: 'one', 2: 'two'}\n"
     ]
    }
   ],
   "source": [
    "#32.How will you create a dictionary using tuples in python?\n",
    "\n",
    "tup = ((1,'one'),(2,'two'))\n",
    "tup = list(tup)  # [(1,'one'),(2,'two')]\n",
    "n = {}\n",
    "n.update(tup)\n",
    "tup = n.copy()\n",
    "print(tup)"
   ]
  },
  {
   "cell_type": "code",
   "execution_count": 39,
   "id": "2ef9512d",
   "metadata": {},
   "outputs": [
    {
     "name": "stdout",
     "output_type": "stream",
     "text": [
      "{1: 'one', 2: 'two', 3: 'three', 4: 'four', 5: 'five'}\n",
      "{5: 'five', 4: 'four', 1: 'one', 3: 'three', 2: 'two'}\n"
     ]
    }
   ],
   "source": [
    "#Q33. Write a Python script to sort(acending and decending) a dictionary  by value\n",
    "\n",
    "dictionary = {1:'one',2:'two',3:'three',4:'four',5:'five'}\n",
    "\n",
    "print(dictionary)\n",
    "list1 = list(dictionary.items())\n",
    "list2 = []\n",
    "\n",
    "for i in list1:\n",
    "    i = list(i)\n",
    "    i.reverse()\n",
    "    list2.insert(0,i)\n",
    "\n",
    "list2.reverse()\n",
    "list2.sort()\n",
    "count = 0\n",
    "list3 = []\n",
    "\n",
    "for i in list2:\n",
    "    i.reverse()\n",
    "    list3.insert(0,i)\n",
    "    count = count + 1  \n",
    "    \n",
    "list3.reverse()   \n",
    "dictionary_2 = {}\n",
    "dictionary_2.update(list2)\n",
    "dictionary.clear()\n",
    "dictionary = dictionary_2.copy()\n",
    "print(dictionary)"
   ]
  },
  {
   "cell_type": "code",
   "execution_count": 40,
   "id": "98951282",
   "metadata": {},
   "outputs": [
    {
     "name": "stdout",
     "output_type": "stream",
     "text": [
      "{'name': 'yug', 'age': 22, 'salary': 56.0, 'gender': 'male'}\n"
     ]
    }
   ],
   "source": [
    "#34.Write a python script to concatenate following dictionaries to create a new one.\n",
    "\n",
    "person = {'name':'yug','age':22}\n",
    "add_on = {'salary':56.00,'gender':'male'}\n",
    "new_one = list(person.items()) + list(add_on.items())\n",
    "print(dict(new_one))"
   ]
  },
  {
   "cell_type": "code",
   "execution_count": 41,
   "id": "0e59d10f",
   "metadata": {},
   "outputs": [
    {
     "name": "stdout",
     "output_type": "stream",
     "text": [
      "key doesn't exist\n"
     ]
    }
   ],
   "source": [
    "#35.Write a python script to check if a given key already exists in a dictionary.\n",
    "\n",
    "dict1 = {1:'one',2:'two'}\n",
    "given_key = 12\n",
    "if given_key in dict1:\n",
    "    print('key already exist')\n",
    "else:\n",
    "    print('key doesn\\'t exist')"
   ]
  },
  {
   "cell_type": "code",
   "execution_count": 44,
   "id": "5a2544d4",
   "metadata": {},
   "outputs": [
    {
     "name": "stdout",
     "output_type": "stream",
     "text": [
      "name jeel\n",
      "age 18\n",
      "gender male\n",
      "salary 1-lakh\n"
     ]
    }
   ],
   "source": [
    "#36.How do you traverse through a dictionary object in python?\n",
    "\n",
    "dictionary = {'name':'jeel','age':18,'gender':'male','salary':'1-lakh'}\n",
    "for (key,value) in dictionary.items():\n",
    "    print(key,value)"
   ]
  },
  {
   "cell_type": "code",
   "execution_count": 45,
   "id": "504a6875",
   "metadata": {},
   "outputs": [
    {
     "name": "stdout",
     "output_type": "stream",
     "text": [
      "34 {1: 1, 2: 2, 3: 3, 4: 4, 5: 5}\n"
     ]
    }
   ],
   "source": [
    "#37.How do you check the presence of a key in a dictionary?\n",
    "\n",
    "d1 = {1:1, 2:2, 3:3, 4:4, 5:5}\n",
    "key = 34\n",
    "if key in d1:\n",
    "    print(key,d1)\n",
    "else:\n",
    "    print(key,d1)"
   ]
  },
  {
   "cell_type": "code",
   "execution_count": 46,
   "id": "8e1bf4dc",
   "metadata": {},
   "outputs": [
    {
     "name": "stdout",
     "output_type": "stream",
     "text": [
      "{1: 'a', 2: 'b', 3: 'c', 4: 'd', 5: 'e', 6: 'f', 7: 'g', 8: 'h', 9: 'i', 10: 'j', 11: 'k', 12: 'l', 13: 'm', 14: 'n', 15: 'o'}\n"
     ]
    }
   ],
   "source": [
    "#38.Write a Python script to print a dictionary where the keys are numbers between 1 and 15\n",
    "\n",
    "dictionary = {}\n",
    "alpha = ' abcdefghijklmnopqrstuvwxyz'\n",
    "for i in range(1,16):\n",
    "     dictionary.setdefault(i,alpha[i])\n",
    "print(dictionary)"
   ]
  },
  {
   "cell_type": "code",
   "execution_count": 47,
   "id": "62070ed6",
   "metadata": {},
   "outputs": [
    {
     "name": "stdout",
     "output_type": "stream",
     "text": [
      "[1, 2, 3]\n",
      "1\n",
      "2\n",
      "3\n"
     ]
    }
   ],
   "source": [
    "#39.Write a python program to check multiple keys exists in a dictionary\n",
    "\n",
    "dict1 = {1:'one',2:'two',3:'three',1:'two'}\n",
    "list1 = list(dict1)\n",
    "print(list1)\n",
    "for i in dict1:\n",
    "    print(i)"
   ]
  },
  {
   "cell_type": "code",
   "execution_count": 49,
   "id": "e588891b",
   "metadata": {},
   "outputs": [
    {
     "name": "stdout",
     "output_type": "stream",
     "text": [
      "{'name': 'jeel', 'age': 18, 'gender': 'male', 'salary': 1234556.0}\n"
     ]
    }
   ],
   "source": [
    "#40.Write a python script to merge two python dictionaries\n",
    "\n",
    "d1 = {'name':'jeel','age':18}\n",
    "d2 = {'gender':'male','salary':1234556.00}\n",
    "d1.update(d2)\n",
    "print(d1)"
   ]
  },
  {
   "cell_type": "code",
   "execution_count": 50,
   "id": "94bf36f2",
   "metadata": {},
   "outputs": [
    {
     "name": "stdout",
     "output_type": "stream",
     "text": [
      "{'apple': 2, 'mango': 4, 'oranges': 5, 'grapes': 32}\n"
     ]
    }
   ],
   "source": [
    "#41.Write a python program to map two lists into a dictionary\n",
    "\n",
    "keys = ['apple','mango','oranges','grapes']\n",
    "values = [2,4,5,32]\n",
    "dictionary = {}\n",
    "for i in range(len(values)):\n",
    "    dictionary.setdefault(keys[i],values[i])\n",
    "print(dictionary)"
   ]
  },
  {
   "cell_type": "code",
   "execution_count": 51,
   "id": "5a59ba40",
   "metadata": {},
   "outputs": [
    {
     "name": "stdout",
     "output_type": "stream",
     "text": [
      "{'a': 300, 'b': 200, 'c': 300, 'd': 400}\n",
      "{'a': 400, 'b': 400, 'c': 300, 'd': 400}\n"
     ]
    }
   ],
   "source": [
    "#42.Write a python program to combine two dictionary adding values for common keys.\n",
    "\n",
    "d1 = {'a':100,'b':200,'c':300}\n",
    "d2 = {'a':300,'b':200,'d':400}\n",
    "temp = d1.copy()\n",
    "temp.update(d2)\n",
    "print(temp)\n",
    "\n",
    "for key in d1:\n",
    "    if key in d2:\n",
    "        temp[key] = d1[key]+d2[key]\n",
    "print(temp)"
   ]
  },
  {
   "cell_type": "code",
   "execution_count": 52,
   "id": "e8e7d85d",
   "metadata": {},
   "outputs": [
    {
     "name": "stdout",
     "output_type": "stream",
     "text": [
      "['one', 'two', 'three', 'two', 'yug', 2, 'yug']\n",
      "Uniques Values are :-  ['one', 'three', '2']\n"
     ]
    }
   ],
   "source": [
    "#43.Write a python program to print all the unique values in the dictionary\n",
    "\n",
    "d1 = {1:'one',2:'two',3:'three',4:'two','name':'yug','apple':2,'id':'yug'}\n",
    "values = list(d1.values())\n",
    "temp = ''\n",
    "\n",
    "print(values)\n",
    "for idx in values:\n",
    "    if values.count(idx)==1:\n",
    "        temp = temp + str(idx) + ' '\n",
    "\n",
    "    else:\n",
    "        continue\n",
    "print('Uniques Values are :- ',temp.split())"
   ]
  },
  {
   "cell_type": "code",
   "execution_count": null,
   "id": "030be5e1",
   "metadata": {},
   "outputs": [],
   "source": [
    "#44.Why Do You Use the zip() Method in Python?\n",
    "\n"
   ]
  },
  {
   "cell_type": "code",
   "execution_count": 53,
   "id": "75c2a1c2",
   "metadata": {},
   "outputs": [
    {
     "name": "stdout",
     "output_type": "stream",
     "text": [
      "[['a', 'b'], ['c', 'd']]\n",
      "ac\n",
      "ad\n",
      "bc\n",
      "bd\n"
     ]
    }
   ],
   "source": [
    "#45.Write a python program to create and display all combinations of letters,selecting each letter from a different key in a dictionary.\n",
    "\n",
    "count = 0\n",
    "d = {1:['a','b'], 2:['c','d']}\n",
    "l = list(d.values())\n",
    "print(l)\n",
    "count = 0\n",
    "j = 0\n",
    "for i in range(0,len(l[0])*len(l[1])):\n",
    "    if count >= len(l[1]):\n",
    "        print(l[0][1] + l[1][j])\n",
    "        j = j+1\n",
    "        if j == len(l[1]):\n",
    "            j = 0\n",
    "    else:\n",
    "        print(l[0][0] + l[1][j])\n",
    "        j = j+1\n",
    "        if j == len(l[1]):\n",
    "            j = 0\n",
    "    count = count + 1\n",
    "    "
   ]
  },
  {
   "cell_type": "code",
   "execution_count": 54,
   "id": "ea7a7348",
   "metadata": {},
   "outputs": [
    {
     "name": "stdout",
     "output_type": "stream",
     "text": [
      "[34, 25, 68, 98, 13, 1, 100]\n",
      "100\n",
      "98\n",
      "68\n"
     ]
    }
   ],
   "source": [
    "#46.Write python program to find the highest 3 values in a dictionary\n",
    "\n",
    "numbers = {'a':34,'b':25,'c':68,'d':98,'e':13,'f':1,'g':100}\n",
    "values = list(numbers.values())\n",
    "print(values)\n",
    "values.sort(reverse=True)\n",
    "print(values[0])\n",
    "print(values[1])\n",
    "print(values[2])"
   ]
  },
  {
   "cell_type": "code",
   "execution_count": 55,
   "id": "3052b334",
   "metadata": {
    "scrolled": true
   },
   "outputs": [
    {
     "name": "stdout",
     "output_type": "stream",
     "text": [
      "dict_keys([1])\n",
      "{1: 'one'}\n",
      "one\n",
      "{1: 'one'}\n"
     ]
    }
   ],
   "source": [
    "#47.Write a python program to combine values in python list of dictionaries.\n",
    "# sample data: [{'item':'item1','amount':400},{'item':'item2','amount':'300},\n",
    "#              {'item':'item1','amount':750}]\n",
    "# Expexted output :\n",
    "\n",
    "d1 = {1:'one'}\n",
    "\n",
    "print(d1.keys())\n",
    "print(d1)\n",
    "for i in d1:\n",
    "    i = d1[i]\n",
    "    print(i)\n",
    "print(d1)"
   ]
  },
  {
   "cell_type": "code",
   "execution_count": 56,
   "id": "9c1fc016",
   "metadata": {},
   "outputs": [
    {
     "name": "stdout",
     "output_type": "stream",
     "text": [
      "{'w': 1, '3': 1, 'r': 2, 'e': 2, 's': 1, 'o': 1, 'u': 1, 'c': 1}\n"
     ]
    }
   ],
   "source": [
    "#48.Write a Python program to create a dictionary from a string.\n",
    "\n",
    "string = 'w3resource'\n",
    "dictionary = dict.fromkeys(string,1)\n",
    "for key in dictionary:\n",
    "    dictionary[key] = string.count(key)\n",
    "print(dictionary)"
   ]
  },
  {
   "cell_type": "code",
   "execution_count": 57,
   "id": "83a72748",
   "metadata": {},
   "outputs": [
    {
     "name": "stdout",
     "output_type": "stream",
     "text": [
      "120\n"
     ]
    }
   ],
   "source": [
    "#49.Write a Python function to calculate the factorial of a number(a non-negative integer)\n",
    "\n",
    "def factorial(num):\n",
    "    for i in range(1,num): \n",
    "        num = num * i\n",
    "    return num\n",
    "\n",
    "print(factorial(5))"
   ]
  },
  {
   "cell_type": "code",
   "execution_count": 58,
   "id": "7d6773cb",
   "metadata": {},
   "outputs": [
    {
     "name": "stdout",
     "output_type": "stream",
     "text": [
      "869\n",
      "66\n",
      "6860\n",
      "6860\n"
     ]
    }
   ],
   "source": [
    "#50.Write a Python function to check whether a number is in a given range\n",
    "\n",
    "def find_num(rng,num):\n",
    "    if num in rgn:\n",
    "        print(num)\n",
    "    else:\n",
    "        print(num)\n",
    "\n",
    "start = int(input())\n",
    "stop = int(input())\n",
    "number = int(input())\n",
    "if start > stop :\n",
    "    rgn = range(start,stop+1,-1)\n",
    "else:\n",
    "    rgn = range(start,stop+1)\n",
    "    \n",
    "find_num(rgn,num = number)"
   ]
  },
  {
   "cell_type": "code",
   "execution_count": 59,
   "id": "18d09562",
   "metadata": {},
   "outputs": [
    {
     "name": "stdout",
     "output_type": "stream",
     "text": [
      "enter number : 56\n",
      "56\n"
     ]
    }
   ],
   "source": [
    "#51.Write a Python function whether a number is perfect or not.\n",
    "\n",
    "def perfect_number(num,summ):\n",
    "    for i in range(1,num):\n",
    "        if num % i == 0:\n",
    "            summ = summ + i\n",
    "        else:\n",
    "            pass\n",
    "    if summ == num:\n",
    "        print(num)\n",
    "    else:\n",
    "        print(num)\n",
    "\n",
    "num = int(input('enter number : '))\n",
    "perfect_number(num,0)"
   ]
  },
  {
   "cell_type": "code",
   "execution_count": 60,
   "id": "100c4bc5",
   "metadata": {},
   "outputs": [
    {
     "name": "stdout",
     "output_type": "stream",
     "text": [
      "enter a string : 'fdrkdjdjdjdjsnsj'\n",
      "'fdrkdjdjdjdjsnsj'\n"
     ]
    }
   ],
   "source": [
    "#52.Write a Python function that checks whether a passed string is palindrome or not\n",
    "\n",
    "def palindrome(string):\n",
    "    if string == string[len(string)::-1]:\n",
    "        print(string)\n",
    "    else:\n",
    "        print(string)\n",
    "\n",
    "string = input('enter a string : ')    \n",
    "palindrome(string)"
   ]
  },
  {
   "cell_type": "code",
   "execution_count": null,
   "id": "abbfee93",
   "metadata": {},
   "outputs": [],
   "source": [
    "#54.What is lambda function in python? What we call a function which is incomplete version of a  function?\n",
    "\n"
   ]
  },
  {
   "cell_type": "code",
   "execution_count": null,
   "id": "a2518c14",
   "metadata": {},
   "outputs": [],
   "source": [
    "#55.How many Basic Types of functions are available in python?\n",
    "\n"
   ]
  },
  {
   "cell_type": "code",
   "execution_count": null,
   "id": "ed17010e",
   "metadata": {},
   "outputs": [],
   "source": [
    "#61.Write a python program to read a random number from a file\n"
   ]
  },
  {
   "cell_type": "code",
   "execution_count": 61,
   "id": "c27141b5",
   "metadata": {},
   "outputs": [
    {
     "name": "stdout",
     "output_type": "stream",
     "text": [
      "456\n",
      "456 degree = 7.9587048000000005 radian\n"
     ]
    }
   ],
   "source": [
    "#62.Write a python function to convert degree to radian\n",
    "\n",
    "def convert_to_rad(deg):\n",
    "    print(deg,'degree =',deg * 0.0174533,'radian' )\n",
    "\n",
    "degree = int(input())\n",
    "convert_to_rad(degree)"
   ]
  },
  {
   "cell_type": "code",
   "execution_count": 62,
   "id": "fda5ad21",
   "metadata": {},
   "outputs": [
    {
     "name": "stdout",
     "output_type": "stream",
     "text": [
      "455656\n",
      "456\n",
      "4365\n",
      "995464440.0\n"
     ]
    }
   ],
   "source": [
    "#63.Write a python program to calculate the area of a trapezoid\n",
    "\n",
    "def area_of_trapezoid(upper,lower,height):\n",
    "    trap = (upper + lower) * (height/2)\n",
    "    print(trap)\n",
    "\n",
    "upper_base = float(input())\n",
    "lower_base = float(input())\n",
    "height = float(input())\n",
    "\n",
    "area_of_trapezoid(upper_base,lower_base,height)"
   ]
  },
  {
   "cell_type": "code",
   "execution_count": 65,
   "id": "d94ae32b",
   "metadata": {},
   "outputs": [
    {
     "name": "stdout",
     "output_type": "stream",
     "text": [
      "enter base : 4\n",
      "enter height : 5\n",
      "20.0\n"
     ]
    }
   ],
   "source": [
    "#64.Write a Python program to calculate the area of parallelogram\n",
    "\n",
    "def area_of_parallelogram(base,height):\n",
    "    print(base*height)\n",
    "\n",
    "base = float(input('enter base : '))\n",
    "height = float(input('enter height : '))\n",
    "\n",
    "area_of_parallelogram(base,height)\n"
   ]
  },
  {
   "cell_type": "code",
   "execution_count": 66,
   "id": "cd67fba7",
   "metadata": {},
   "outputs": [
    {
     "name": "stdout",
     "output_type": "stream",
     "text": [
      "enter radius : 2\n",
      "enter height : 3\n",
      "37.68\n",
      "62.800000000000004\n"
     ]
    }
   ],
   "source": [
    "#65.Write a python program to calculate surface volume and area of a cylinder\n",
    "\n",
    "def volume_of_cylinder(pi,r,h):\n",
    "    print(pi*r*r*h)\n",
    "\n",
    "def area_of_cylinder(pi,r,h):\n",
    "    print(2*pi*r*(h+r))\n",
    "    \n",
    "pi = 3.14\n",
    "radius = float(input('enter radius : '))\n",
    "height = float(input('enter height : '))\n",
    "volume_of_cylinder(pi,radius,height)\n",
    "area_of_cylinder(pi,radius,height)"
   ]
  },
  {
   "cell_type": "code",
   "execution_count": 67,
   "id": "5e533bdf",
   "metadata": {},
   "outputs": [
    {
     "name": "stdout",
     "output_type": "stream",
     "text": [
      "6\n",
      "12\n"
     ]
    }
   ],
   "source": [
    "# Q66. Write a python program to returns sum of all divisors of a number\n",
    "\n",
    "def divisor_sum(num,summ):\n",
    "    for i in range(1,num+1):\n",
    "        if num%i==0:\n",
    "            summ = summ + i\n",
    "        else:\n",
    "            pass\n",
    "    return summ\n",
    "\n",
    "number = int(input('enter number : '))\n",
    "print(divisor_sum(number,0))"
   ]
  },
  {
   "cell_type": "code",
   "execution_count": 68,
   "id": "523164b8",
   "metadata": {},
   "outputs": [
    {
     "data": {
      "text/plain": [
       "-1"
      ]
     },
     "execution_count": 68,
     "metadata": {},
     "output_type": "execute_result"
    }
   ],
   "source": [
    "#67.Write a python program to find the maximum and minimum numbers from the specified decimal numbers\n",
    "\n",
    "str1 = 'asdfsad'\n",
    "str1.find('23')"
   ]
  },
  {
   "cell_type": "code",
   "execution_count": 69,
   "id": "417c16d4",
   "metadata": {},
   "outputs": [
    {
     "name": "stdout",
     "output_type": "stream",
     "text": [
      "1 2 3\n",
      "[1, 2, 2]\n"
     ]
    }
   ],
   "source": [
    "print('1 2 3')\n",
    "dict1 = {'a':1,'b':2,'c':2}\n",
    "v = dict1.values()\n",
    "print(list(v))"
   ]
  },
  {
   "cell_type": "code",
   "execution_count": 1,
   "id": "fb28688a",
   "metadata": {},
   "outputs": [
    {
     "name": "stdout",
     "output_type": "stream",
     "text": [
      "[1, 2, 2]\n",
      "\n"
     ]
    }
   ],
   "source": [
    "print(str([1, 2, 2]))\n",
    "print('')"
   ]
  }
 ],
 "metadata": {
  "kernelspec": {
   "display_name": "Python 3 (ipykernel)",
   "language": "python",
   "name": "python3"
  },
  "language_info": {
   "codemirror_mode": {
    "name": "ipython",
    "version": 3
   },
   "file_extension": ".py",
   "mimetype": "text/x-python",
   "name": "python",
   "nbconvert_exporter": "python",
   "pygments_lexer": "ipython3",
   "version": "3.9.12"
  }
 },
 "nbformat": 4,
 "nbformat_minor": 5
}
