{
 "cells": [
  {
   "cell_type": "code",
   "execution_count": 1,
   "id": "72bcb9e5",
   "metadata": {},
   "outputs": [],
   "source": [
    "                                               MODULE = 2"
   ]
  },
  {
   "cell_type": "code",
   "execution_count": 2,
   "id": "bc2ee304",
   "metadata": {},
   "outputs": [
    {
     "name": "stdout",
     "output_type": "stream",
     "text": [
      "20\n"
     ]
    }
   ],
   "source": [
    "#defining a variables\n",
    "\n",
    "x = 20\n",
    "print(x)"
   ]
  },
  {
   "cell_type": "code",
   "execution_count": null,
   "id": "4c15767d",
   "metadata": {},
   "outputs": [],
   "source": [
    "#Identifier-variables Name\n",
    "\n",
    "1.Variables name can be start with_or alphabets\n",
    "2.Variables name can be contain_,alphabets numbers\n",
    "3.You can use keywords"
   ]
  },
  {
   "cell_type": "code",
   "execution_count": null,
   "id": "7aed5ccb",
   "metadata": {},
   "outputs": [],
   "source": [
    "#Alphabets data value\n",
    "\n",
    "khushal = 100\n",
    "krishil = 50\n",
    "#print(khushal,krishil)\n",
    "\n",
    "khushal = 100\n",
    "krishil = 50\n",
    "jeel    = 100\n",
    "\n",
    "khushal = krishil\n",
    "krishi  = khushal\n",
    "krishil = jeel\n",
    "print(khushal,krishil)"
   ]
  },
  {
   "cell_type": "code",
   "execution_count": null,
   "id": "e20d635c",
   "metadata": {},
   "outputs": [],
   "source": [
    "#short cross value\n",
    "\n",
    "a = 100\n",
    "b = 50\n",
    "#print(a,b)\n",
    "\n",
    "a,b = b,a\n",
    "print(a,b)"
   ]
  },
  {
   "cell_type": "code",
   "execution_count": null,
   "id": "f07d6950",
   "metadata": {},
   "outputs": [],
   "source": [
    "#multiple variables single value \n",
    "\n",
    "a = b = c = 10\n",
    "print(a,b,c)"
   ]
  },
  {
   "cell_type": "code",
   "execution_count": null,
   "id": "6d42a4f9",
   "metadata": {},
   "outputs": [],
   "source": [
    "#multiple variables multiples values\n",
    "\n",
    "a,c,b = 40,76,98\n",
    "print(a,b,c)"
   ]
  },
  {
   "cell_type": "code",
   "execution_count": null,
   "id": "b2abf020",
   "metadata": {},
   "outputs": [],
   "source": [
    "#data/value : intormation\n",
    "\n",
    "int   : integer = 0,1,2,3,4,5,-90,-56767\n",
    "float : 4.5,66.7,0.1\n",
    "str   : 'string' single quotes|double quotes character,word,sentence,single limultiline string : triple quotes"
   ]
  },
  {
   "cell_type": "code",
   "execution_count": null,
   "id": "756efc5d",
   "metadata": {},
   "outputs": [],
   "source": [
    "#bool : boolean tapy sha\n",
    "\n",
    "True and False"
   ]
  },
  {
   "cell_type": "code",
   "execution_count": null,
   "id": "b937ae7d",
   "metadata": {},
   "outputs": [],
   "source": [
    "1.list  : a = [1,2,3,4]\n",
    "2.tuple : a = (1,2,3,4,5)\n",
    "3.set   : a = {1,2,3,4,5,6}\n",
    "4.dict  : a = {'kite' : 'one type of festival'}"
   ]
  },
  {
   "cell_type": "code",
   "execution_count": null,
   "id": "e9de6ae5",
   "metadata": {},
   "outputs": [],
   "source": [
    "string = {1,2,3}\n",
    "type(string)"
   ]
  },
  {
   "cell_type": "code",
   "execution_count": null,
   "id": "820389ac",
   "metadata": {},
   "outputs": [],
   "source": [
    "str1 = 'li''on'\n",
    "print(str1)"
   ]
  },
  {
   "cell_type": "code",
   "execution_count": null,
   "id": "ef136f0b",
   "metadata": {},
   "outputs": [],
   "source": [
    "#operator : who does the work , who performs something\n",
    "#operands : on which operatar does the work"
   ]
  },
  {
   "cell_type": "code",
   "execution_count": null,
   "id": "e96b13a2",
   "metadata": {},
   "outputs": [],
   "source": [
    "#Types of operator\n",
    "\n",
    "1.Arithmentic operator\n",
    "2.Assignement operator\n",
    "3.Logical operator\n",
    "4.Comparison operator\n",
    "5.Identity operator\n",
    "6.Membership operator"
   ]
  },
  {
   "cell_type": "code",
   "execution_count": null,
   "id": "aa9514bf",
   "metadata": {},
   "outputs": [],
   "source": [
    "#1.Arithmentic operator\n",
    "\n",
    "1.+   :addition operator\n",
    "2.-   :substraction   \n",
    "3.*   :(asteriak):multiplication\n",
    "4./   :(forward slash):division operator\n",
    "5.%   :modulo\n",
    "6.**  :power\n",
    "7.//  :floor division"
   ]
  },
  {
   "cell_type": "code",
   "execution_count": null,
   "id": "988298b3",
   "metadata": {},
   "outputs": [],
   "source": [
    "#addition operator\n",
    "\n",
    "a = 4\n",
    "b = 7\n",
    "a + b\n",
    "print(a+b)"
   ]
  },
  {
   "cell_type": "code",
   "execution_count": null,
   "id": "4720370f",
   "metadata": {},
   "outputs": [],
   "source": [
    "a = 20\n",
    "b = 48\n",
    "a - b\n",
    "print(a-b)"
   ]
  },
  {
   "cell_type": "code",
   "execution_count": null,
   "id": "78413e4c",
   "metadata": {},
   "outputs": [],
   "source": [
    "a = 8\n",
    "b = 9\n",
    "a * b\n",
    "print(a*b)"
   ]
  },
  {
   "cell_type": "code",
   "execution_count": null,
   "id": "caf270d2",
   "metadata": {},
   "outputs": [],
   "source": [
    "#return type will float\n",
    "\n",
    "a = 10\n",
    "b = 9\n",
    "a / b\n",
    "print(a/b)"
   ]
  },
  {
   "cell_type": "code",
   "execution_count": null,
   "id": "bba6fa27",
   "metadata": {},
   "outputs": [],
   "source": [
    "#returns the reminder\n",
    "\n",
    "a = 17\n",
    "b = 10\n",
    "a % b\n",
    "print(a%b)"
   ]
  },
  {
   "cell_type": "code",
   "execution_count": null,
   "id": "f4b2c8c3",
   "metadata": {},
   "outputs": [],
   "source": [
    "#(base)**(power)\n",
    "\n",
    "a = 5\n",
    "b = 7\n",
    "a ** b\n",
    "print(a**b)"
   ]
  },
  {
   "cell_type": "code",
   "execution_count": null,
   "id": "aabac25e",
   "metadata": {},
   "outputs": [],
   "source": [
    "#floor division\n",
    "\n",
    "a = 15\n",
    "b = 8\n",
    "a // b\n",
    "print(a//b)"
   ]
  },
  {
   "cell_type": "code",
   "execution_count": null,
   "id": "b22fa9fe",
   "metadata": {},
   "outputs": [],
   "source": [
    "2.Assignement operator\n",
    "\n",
    "1.=\n",
    "2.+=\n",
    "3.-=\n",
    "4.*=\n",
    "5./=\n",
    "6.//=\n",
    "7.**=\n",
    "8.%="
   ]
  },
  {
   "cell_type": "code",
   "execution_count": null,
   "id": "7bcf3f82",
   "metadata": {},
   "outputs": [],
   "source": [
    "#Assignement operator\n",
    "\n",
    "a = 13 \n",
    "a //= 2      #(a = 13 // 4)\n",
    "print(a)"
   ]
  },
  {
   "cell_type": "code",
   "execution_count": null,
   "id": "0e54f668",
   "metadata": {},
   "outputs": [],
   "source": [
    "a = 10\n",
    "a += 5       #(a = a + 5)\n",
    "print(a)"
   ]
  },
  {
   "cell_type": "code",
   "execution_count": null,
   "id": "c9297a9e",
   "metadata": {},
   "outputs": [],
   "source": [
    "a = 10\n",
    "a -= 5       #(a = a - 5)\n",
    "print(a)"
   ]
  },
  {
   "cell_type": "code",
   "execution_count": null,
   "id": "38ff31a4",
   "metadata": {},
   "outputs": [],
   "source": [
    "a = 10\n",
    "a *= 5       #(a = a * 5)\n",
    "print(a)"
   ]
  },
  {
   "cell_type": "code",
   "execution_count": null,
   "id": "7d1030ce",
   "metadata": {},
   "outputs": [],
   "source": [
    "a = 10\n",
    "a /= 5       #(a = a / 5)\n",
    "print(a)"
   ]
  },
  {
   "cell_type": "code",
   "execution_count": null,
   "id": "d5920412",
   "metadata": {},
   "outputs": [],
   "source": [
    "a = 13\n",
    "a //= 5      #(a = a // 4)\n",
    "print(a)"
   ]
  },
  {
   "cell_type": "code",
   "execution_count": null,
   "id": "3ad3fc7a",
   "metadata": {},
   "outputs": [],
   "source": [
    "a = 80\n",
    "a **= 0      #(a = a ** 0)\n",
    "print(a)"
   ]
  },
  {
   "cell_type": "code",
   "execution_count": 4,
   "id": "05bbe208",
   "metadata": {},
   "outputs": [
    {
     "name": "stdout",
     "output_type": "stream",
     "text": [
      "3\n"
     ]
    }
   ],
   "source": [
    "a = 19\n",
    "a %= 8       #(a = a % 8)\n",
    "print(a)"
   ]
  },
  {
   "cell_type": "code",
   "execution_count": 5,
   "id": "96d5ce12",
   "metadata": {},
   "outputs": [],
   "source": [
    "#we should not use _ as perfix usualiy\n",
    "\n",
    "_jeel_   = 89\n",
    "_jeel_   =  _jeel_\n",
    "#variable = variable"
   ]
  },
  {
   "cell_type": "code",
   "execution_count": 6,
   "id": "c657057a",
   "metadata": {},
   "outputs": [
    {
     "name": "stdout",
     "output_type": "stream",
     "text": [
      "_jeel_\n"
     ]
    }
   ],
   "source": [
    "_23 = 54\n",
    "jeel = '_jeel_'\n",
    "print(jeel)"
   ]
  },
  {
   "cell_type": "code",
   "execution_count": null,
   "id": "c3eb3691",
   "metadata": {},
   "outputs": [],
   "source": [
    "#4.Comparison operator\n",
    "\n",
    ">  (greater than)\n",
    "<  (less than)\n",
    "<= (less than or rquais to)\n",
    ">= (greater than or equais to)\n",
    "== \n",
    "!= "
   ]
  },
  {
   "cell_type": "code",
   "execution_count": null,
   "id": "e70074ee",
   "metadata": {},
   "outputs": [],
   "source": [
    "80 > 90"
   ]
  },
  {
   "cell_type": "code",
   "execution_count": null,
   "id": "34ba262c",
   "metadata": {},
   "outputs": [],
   "source": [
    "80 < 90"
   ]
  },
  {
   "cell_type": "code",
   "execution_count": null,
   "id": "a2ae34ca",
   "metadata": {},
   "outputs": [],
   "source": [
    "80 <= 90"
   ]
  },
  {
   "cell_type": "code",
   "execution_count": null,
   "id": "c77c8f7b",
   "metadata": {},
   "outputs": [],
   "source": [
    "80 >= 90"
   ]
  },
  {
   "cell_type": "code",
   "execution_count": null,
   "id": "4dfc5595",
   "metadata": {},
   "outputs": [],
   "source": [
    "90 == 90"
   ]
  },
  {
   "cell_type": "code",
   "execution_count": null,
   "id": "33b7ea30",
   "metadata": {},
   "outputs": [],
   "source": [
    "90 != 90"
   ]
  },
  {
   "cell_type": "code",
   "execution_count": null,
   "id": "954215cd",
   "metadata": {},
   "outputs": [],
   "source": [
    "90 != 8"
   ]
  },
  {
   "cell_type": "code",
   "execution_count": null,
   "id": "8bd40658",
   "metadata": {},
   "outputs": [],
   "source": [
    "#3.Logical operator\n",
    "\n",
    "and    #true hovu joi ae \n",
    "or\n",
    "not"
   ]
  },
  {
   "cell_type": "code",
   "execution_count": null,
   "id": "2b8c30e3",
   "metadata": {},
   "outputs": [],
   "source": [
    "and : it both sides ar true then if returns true\n",
    "or  : if one of the sides true then is returns true    "
   ]
  },
  {
   "cell_type": "code",
   "execution_count": null,
   "id": "8f3d8a04",
   "metadata": {},
   "outputs": [],
   "source": [
    "#and\n",
    "\n",
    "r = 90\n",
    "90 > 34 and r > 34"
   ]
  },
  {
   "cell_type": "code",
   "execution_count": null,
   "id": "d0af573c",
   "metadata": {},
   "outputs": [],
   "source": [
    "#or \n",
    "\n",
    "r = 90\n",
    "12 < 34 or r < 34"
   ]
  },
  {
   "cell_type": "code",
   "execution_count": null,
   "id": "e49b3dfe",
   "metadata": {},
   "outputs": [],
   "source": [
    "#not\n",
    "\n",
    "true nu false\n",
    "false nu true"
   ]
  },
  {
   "cell_type": "code",
   "execution_count": null,
   "id": "a32c181a",
   "metadata": {},
   "outputs": [],
   "source": [
    "#5.Identity operator\n",
    "\n",
    "is\n",
    "is not"
   ]
  },
  {
   "cell_type": "code",
   "execution_count": null,
   "id": "19f88cec",
   "metadata": {},
   "outputs": [],
   "source": [
    "#is\n",
    "\n",
    "a = 23\n",
    "b = 23\n",
    "a is b\n",
    "print(id(a),id(b))"
   ]
  },
  {
   "cell_type": "code",
   "execution_count": null,
   "id": "87e027fc",
   "metadata": {},
   "outputs": [],
   "source": [
    "#is not\n",
    "\n",
    "a = 23 \n",
    "a = 23\n",
    "a is not b\n",
    "print(id(a),id(b))"
   ]
  },
  {
   "cell_type": "code",
   "execution_count": null,
   "id": "e0650a22",
   "metadata": {},
   "outputs": [],
   "source": [
    "#6.Membership operator\n",
    "\n",
    "in \n",
    "not in"
   ]
  },
  {
   "cell_type": "code",
   "execution_count": null,
   "id": "37094b63",
   "metadata": {},
   "outputs": [],
   "source": [
    "#in\n",
    "\n",
    "4 in [1,2,3,4]"
   ]
  },
  {
   "cell_type": "code",
   "execution_count": null,
   "id": "397fdbb0",
   "metadata": {},
   "outputs": [],
   "source": [
    "#ont in\n",
    "\n",
    "14 not in [1,2,3,14] "
   ]
  },
  {
   "cell_type": "code",
   "execution_count": null,
   "id": "2fead550",
   "metadata": {},
   "outputs": [],
   "source": [
    "#conditional statements\n",
    "\n",
    "if\n",
    "if elses\n",
    "elif (elif laddre)\n",
    "mested if"
   ]
  },
  {
   "cell_type": "code",
   "execution_count": null,
   "id": "5bf75e3b",
   "metadata": {},
   "outputs": [],
   "source": [
    "#sysntax\n",
    "\n",
    "if condition:\n",
    "    boc(block of code/suite)"
   ]
  },
  {
   "cell_type": "code",
   "execution_count": null,
   "id": "58e3918b",
   "metadata": {},
   "outputs": [],
   "source": [
    "#if\n",
    "\n",
    "a = 3.4\n",
    "if a > 0:\n",
    "    print('jeel')\n",
    "    print('krishil')\n",
    "print('krish')    "
   ]
  },
  {
   "cell_type": "code",
   "execution_count": null,
   "id": "4b9d7807",
   "metadata": {},
   "outputs": [],
   "source": [
    "a = 80\n",
    "if a > 0:\n",
    "    print('jeel')"
   ]
  },
  {
   "cell_type": "code",
   "execution_count": null,
   "id": "425a70db",
   "metadata": {},
   "outputs": [],
   "source": [
    "#input() na tye = 2\n",
    "\n",
    "it takes the input value\n",
    "it changes type into str   "
   ]
  },
  {
   "cell_type": "code",
   "execution_count": null,
   "id": "388022a6",
   "metadata": {},
   "outputs": [],
   "source": [
    "a = int(input())\n",
    "if a > 0:\n",
    "    print('positive')\n",
    "else:\n",
    "    print('negetive')"
   ]
  },
  {
   "cell_type": "code",
   "execution_count": null,
   "id": "2fa00f10",
   "metadata": {},
   "outputs": [],
   "source": [
    "a = int(input())\n",
    "if a > 65:\n",
    "    print('positive')\n",
    "elif a == 0:\n",
    "    print('zero')\n",
    "else:\n",
    "    print('negetive')"
   ]
  },
  {
   "cell_type": "code",
   "execution_count": null,
   "id": "4ad0a928",
   "metadata": {},
   "outputs": [],
   "source": [
    "#elif ladcler\n",
    "\n",
    "num = float(input())\n",
    "if 90 <= num <= 100:\n",
    "    print('Grade A')\n",
    "elif 80 <= num <= 89:\n",
    "    print('Grade B')\n",
    "elif 70 <= num <= 79:\n",
    "    print('Grade c')\n",
    "elif 60 <= num <= 69:\n",
    "    print('Grade c') \n",
    "elif 50 <= num <= 59:\n",
    "    print('Grade c')\n",
    "elif 0 <= num <= 49:\n",
    "    print('Grade c')\n",
    "else:\n",
    "    print('invalid')"
   ]
  },
  {
   "cell_type": "code",
   "execution_count": null,
   "id": "d72e8584",
   "metadata": {},
   "outputs": [],
   "source": [
    "#nested if\n",
    "\n",
    "num = int(input())\n",
    "if num <= 0:\n",
    "    if num == 0:\n",
    "        print('zero')\n",
    "    else:\n",
    "        print('negetive')\n",
    "else:\n",
    "    print('positive')"
   ]
  },
  {
   "cell_type": "code",
   "execution_count": null,
   "id": "7227f734",
   "metadata": {},
   "outputs": [],
   "source": [
    "wing = 'bheenu'\n",
    "society = 'bheenu'\n",
    "mainrod = 'bheenu'\n",
    "\n",
    "if wing == 'bheenu':\n",
    "    if society == 'bheenu':\n",
    "        if mainrod == 'bheenu':\n",
    "            print('varsaad')\n",
    "        else: \n",
    "             print('not varsaad')\n",
    "    else:\n",
    "         print('not varsaad')\n",
    "else:\n",
    "    print('not varsaad')"
   ]
  },
  {
   "cell_type": "code",
   "execution_count": null,
   "id": "5815e4d7",
   "metadata": {},
   "outputs": [],
   "source": [
    "#loop\n",
    "\n",
    "1.while\n",
    "2.for"
   ]
  },
  {
   "cell_type": "code",
   "execution_count": null,
   "id": "387a610d",
   "metadata": {},
   "outputs": [],
   "source": [
    "#1.while\n",
    "\n",
    "a = 1\n",
    "while a < 10:\n",
    "    print('nihar',a)\n",
    "    a+=1"
   ]
  },
  {
   "cell_type": "code",
   "execution_count": null,
   "id": "422e4cf6",
   "metadata": {},
   "outputs": [],
   "source": [
    "a = 15\n",
    "while a > 5:\n",
    "    print('nihar',a)\n",
    "    a-=1"
   ]
  },
  {
   "cell_type": "code",
   "execution_count": null,
   "id": "02506dca",
   "metadata": {},
   "outputs": [],
   "source": [
    "#syntax\n",
    "#iterable : can be iterated\n",
    "#list,set,string,tuple,dict\n"
   ]
  },
  {
   "cell_type": "code",
   "execution_count": null,
   "id": "c5529ab3",
   "metadata": {},
   "outputs": [],
   "source": [
    "#for variable in iterable:\n",
    "#     boc\n",
    "\n",
    "for a in [2,45,6.7,8]:\n",
    "    print(a)\n",
    "for i in (34,23,56,67):\n",
    "    print(i)\n",
    "for b in {'a':3,'b':56}:\n",
    "    print(b)"
   ]
  },
  {
   "cell_type": "code",
   "execution_count": null,
   "id": "78fa716b",
   "metadata": {},
   "outputs": [],
   "source": [
    "#range(start,stop,step)\n",
    "#stort,step:optional\n",
    "#stop(exclusive):mandetory\n",
    "#default start = 0\n",
    "#default step = +1"
   ]
  },
  {
   "cell_type": "code",
   "execution_count": null,
   "id": "32760f6c",
   "metadata": {},
   "outputs": [],
   "source": [
    "for i in range(2,8,2):\n",
    "    print(i)\n",
    "for i in range(0,-10,-1):\n",
    "    print(i)\n",
    "for i in range(5):\n",
    "    print('nihar')"
   ]
  },
  {
   "cell_type": "code",
   "execution_count": null,
   "id": "c6008c8d",
   "metadata": {},
   "outputs": [],
   "source": [
    "#control statements\n",
    "\n",
    "1.break = it terminates the loop right away\n",
    "2.continue = it skips the currents iteration and continues with the next one\n",
    "3.pass = it prevents error"
   ]
  },
  {
   "cell_type": "code",
   "execution_count": null,
   "id": "7b71a445",
   "metadata": {},
   "outputs": [],
   "source": [
    "#1. break\n",
    "\n",
    "for i in range(10):\n",
    "    if i == 5:\n",
    "        break\n",
    "        print(i)"
   ]
  },
  {
   "cell_type": "code",
   "execution_count": null,
   "id": "5523ed39",
   "metadata": {},
   "outputs": [],
   "source": [
    "#2. continue \n",
    "\n",
    "for i in range(5):\n",
    "    for j in 'ABC':\n",
    "        if i == 2 and j == 'c':\n",
    "            break\n",
    "        else:\n",
    "            print(i,j)"
   ]
  },
  {
   "cell_type": "code",
   "execution_count": 8,
   "id": "cd01c719",
   "metadata": {},
   "outputs": [
    {
     "name": "stdout",
     "output_type": "stream",
     "text": [
      "0\n",
      "1\n",
      "2\n",
      "3\n",
      "4\n"
     ]
    }
   ],
   "source": [
    "#3. pass\n",
    "\n",
    "for i in range(5):\n",
    "    print(i)\n",
    "    pass"
   ]
  },
  {
   "cell_type": "code",
   "execution_count": null,
   "id": "7b14f47d",
   "metadata": {},
   "outputs": [],
   "source": [
    "# characteristics\n",
    "\n",
    "1.oredered\n",
    "2.indexed\n",
    "3.immutable"
   ]
  },
  {
   "cell_type": "code",
   "execution_count": null,
   "id": "34f0dd1d",
   "metadata": {},
   "outputs": [],
   "source": [
    "#positive indexing (left to right)\n",
    "# 0,1,2,...\n",
    "# a[2]\n",
    "\n",
    "#neggtive indexing (right to left)\n",
    "#-1,-2,-3,....\n",
    "#a[-5]"
   ]
  },
  {
   "cell_type": "code",
   "execution_count": null,
   "id": "d65184a3",
   "metadata": {},
   "outputs": [],
   "source": [
    "a = 'krishil'\n",
    "b = 'lion'\n",
    "res = b + a\n",
    "print(res)"
   ]
  },
  {
   "cell_type": "code",
   "execution_count": null,
   "id": "6e3c8dc4",
   "metadata": {},
   "outputs": [],
   "source": [
    "#string slicling\n",
    "#[start:stop:step]"
   ]
  },
  {
   "cell_type": "code",
   "execution_count": null,
   "id": "b480a37a",
   "metadata": {},
   "outputs": [],
   "source": [
    "str1 = 'python'\n",
    "a = str1 [2:5]\n",
    "a"
   ]
  },
  {
   "cell_type": "code",
   "execution_count": null,
   "id": "d50e4dce",
   "metadata": {},
   "outputs": [],
   "source": [
    "str1 = 'this is python language'\n",
    "str1[:6]"
   ]
  },
  {
   "cell_type": "code",
   "execution_count": null,
   "id": "a2ccb67e",
   "metadata": {},
   "outputs": [],
   "source": [
    "#Escape characters\n",
    "#back slash : \\n\n",
    "#\\n : new line\n",
    "#\\b : backspace\n",
    "#\\t : tab"
   ]
  },
  {
   "cell_type": "code",
   "execution_count": null,
   "id": "54e758c3",
   "metadata": {},
   "outputs": [],
   "source": [
    "#raw string\n",
    "\n",
    "str1 = r'kjhfygnbjgrkygmnabhgtkyutghn\\\\\\\\askdhit7uh8756456**'\n",
    "print(str1)"
   ]
  },
  {
   "cell_type": "code",
   "execution_count": null,
   "id": "d6df0fbf",
   "metadata": {},
   "outputs": [],
   "source": [
    "#methads\n",
    "#string methad()\n",
    "\n",
    "str1 = 'google is a search engine.'\n",
    "res = str1.capitalize()\n",
    "print(res)"
   ]
  },
  {
   "cell_type": "code",
   "execution_count": null,
   "id": "14140b0c",
   "metadata": {},
   "outputs": [],
   "source": [
    "#string first character will be uppercase(capital)\n",
    "#and rest of the character will be lowercase"
   ]
  },
  {
   "cell_type": "code",
   "execution_count": null,
   "id": "42372f15",
   "metadata": {},
   "outputs": [],
   "source": [
    "str1 = 'python LANGUAGE'\n",
    "str1.casefold()\n",
    "#all the character of string will be in lowercase (forcefally)"
   ]
  },
  {
   "cell_type": "code",
   "execution_count": null,
   "id": "3c1fbf65",
   "metadata": {},
   "outputs": [],
   "source": [
    "str1 = 'python LANGUAGE'\n",
    "str1.lower()\n",
    "#all the character of string will be in lowercase"
   ]
  },
  {
   "cell_type": "code",
   "execution_count": null,
   "id": "cd2551f6",
   "metadata": {},
   "outputs": [],
   "source": [
    "str1 = 'python LANGUAGE'\n",
    "str1.upper()\n",
    "#all the character of string will be in uppercase"
   ]
  },
  {
   "cell_type": "code",
   "execution_count": null,
   "id": "43aff7f1",
   "metadata": {},
   "outputs": [],
   "source": [
    "str1 = 'python LANGUAGE'\n",
    "str1.title()\n",
    "#firs char of every word will be uppercase and rest of the characters will be  lowercase"
   ]
  },
  {
   "cell_type": "code",
   "execution_count": null,
   "id": "65f64dad",
   "metadata": {},
   "outputs": [],
   "source": [
    "str1 = 'python programing graohics'\n",
    "str1.count('gra')\n",
    "#finds the occurence of substring"
   ]
  },
  {
   "cell_type": "code",
   "execution_count": null,
   "id": "3b9e48ea",
   "metadata": {},
   "outputs": [],
   "source": [
    "str1 = 'python'\n",
    "str1.endswith('thon')\n",
    "#wheather the sting ends with given subtring or not"
   ]
  },
  {
   "cell_type": "code",
   "execution_count": null,
   "id": "25f1f1bd",
   "metadata": {},
   "outputs": [],
   "source": [
    "str1 = 'python'\n",
    "str1.startswith('p')\n",
    "#wheather the string starts with given substring or not"
   ]
  },
  {
   "cell_type": "code",
   "execution_count": null,
   "id": "850023a7",
   "metadata": {},
   "outputs": [],
   "source": [
    "str1 = 'klte'\n",
    "str1.expandtabs(4)"
   ]
  },
  {
   "cell_type": "code",
   "execution_count": null,
   "id": "02b87aeb",
   "metadata": {},
   "outputs": [],
   "source": [
    "str1 = 'python programing graohics'\n",
    "str1.find('p')\n",
    "#left to right on first occurence\n",
    "#raisrs an error if subtring is not present else returns LNDEX"
   ]
  },
  {
   "cell_type": "code",
   "execution_count": null,
   "id": "87f4dd82",
   "metadata": {},
   "outputs": [],
   "source": [
    "str1 = 'python programing graohics'\n",
    "str1.rfind('pioasd')\n",
    "#right to left on first occurence\n",
    "#gives-1 if subtring is not present else returns INDEX"
   ]
  },
  {
   "cell_type": "code",
   "execution_count": null,
   "id": "2b4e3004",
   "metadata": {
    "scrolled": true
   },
   "outputs": [],
   "source": [
    "str1 = 'python programing graohics'\n",
    "str1.rindex('python')"
   ]
  },
  {
   "cell_type": "code",
   "execution_count": null,
   "id": "d11d742c",
   "metadata": {},
   "outputs": [],
   "source": [
    "#{}-placeholders\n",
    "\n",
    "str1 = 'kite run{}ner'\n",
    "str1.format(100)"
   ]
  },
  {
   "cell_type": "code",
   "execution_count": null,
   "id": "b5225f0c",
   "metadata": {},
   "outputs": [],
   "source": [
    "str1 = '10'\n",
    "str1.center(10,'#')\n",
    "#center (total ctotal characters fill character)"
   ]
  },
  {
   "cell_type": "code",
   "execution_count": null,
   "id": "e4bd8923",
   "metadata": {},
   "outputs": [],
   "source": [
    "str1 = '10'\n",
    "str1.ljust(10,'8')\n",
    "#alians leftside"
   ]
  },
  {
   "cell_type": "code",
   "execution_count": null,
   "id": "18b8dcec",
   "metadata": {},
   "outputs": [],
   "source": [
    "str1 = '10'\n",
    "str1.rjust(20,'#')\n",
    "#alians rightside"
   ]
  },
  {
   "cell_type": "code",
   "execution_count": null,
   "id": "79724654",
   "metadata": {},
   "outputs": [],
   "source": [
    "str1 = '10'\n",
    "str1.zfill(10)\n",
    "#alians right side side and \n",
    "#fills rest of the characters with"
   ]
  },
  {
   "cell_type": "code",
   "execution_count": null,
   "id": "82125684",
   "metadata": {},
   "outputs": [],
   "source": [
    "#Iterable : string,list,tuple,set,dict"
   ]
  },
  {
   "cell_type": "code",
   "execution_count": null,
   "id": "8af67761",
   "metadata": {},
   "outputs": [],
   "source": [
    "str1 = 'highest'\n",
    "str1.join('figma')"
   ]
  },
  {
   "cell_type": "code",
   "execution_count": null,
   "id": "3bce83e5",
   "metadata": {},
   "outputs": [],
   "source": [
    "str1 = 'th is is py th on'\n",
    "str1.split()\n",
    "#returns in list\n",
    "#if substring is given thrn it will splits that string from that chars"
   ]
  },
  {
   "cell_type": "code",
   "execution_count": null,
   "id": "bde09f15",
   "metadata": {},
   "outputs": [],
   "source": [
    "str1 = 'th is is py th on'\n",
    "str1.rsplit()"
   ]
  },
  {
   "cell_type": "code",
   "execution_count": null,
   "id": "640c0007",
   "metadata": {},
   "outputs": [],
   "source": [
    "lines = int(input())\n",
    "for i in range(lines-lines//2):\n",
    "    str1=''\n",
    "    for j in range(i+1):\n",
    "        str1 +='* '\n",
    "    upper = str1.center(lines)\n",
    "    print(upper)\n",
    "for a in range(lines-lines//2-1,0,-1):\n",
    "    str1=''\n",
    "    for b in range(a):\n",
    "        str1+='* '\n",
    "    lower = str1.center (lines)\n",
    "    print(lower)"
   ]
  },
  {
   "cell_type": "code",
   "execution_count": 10,
   "id": "8e3138fa",
   "metadata": {},
   "outputs": [
    {
     "data": {
      "text/plain": [
       "'q w e r t y  .'"
      ]
     },
     "execution_count": 10,
     "metadata": {},
     "output_type": "execute_result"
    }
   ],
   "source": [
    "str1 = 'q w e r t y  .'\n",
    "str1.strip()\n",
    "#removes whitespaces from both sides"
   ]
  },
  {
   "cell_type": "code",
   "execution_count": 11,
   "id": "7696f82f",
   "metadata": {},
   "outputs": [
    {
     "data": {
      "text/plain": [
       "'q w e r t y  .'"
      ]
     },
     "execution_count": 11,
     "metadata": {},
     "output_type": "execute_result"
    }
   ],
   "source": [
    "str1 = 'q w e r t y  .'\n",
    "str1.lstrip()\n",
    "#removes whitespaces from left side ONLY"
   ]
  },
  {
   "cell_type": "code",
   "execution_count": 12,
   "id": "d1e2a0af",
   "metadata": {},
   "outputs": [
    {
     "data": {
      "text/plain": [
       "'q w e r t y  .'"
      ]
     },
     "execution_count": 12,
     "metadata": {},
     "output_type": "execute_result"
    }
   ],
   "source": [
    "str1 = 'q w e r t y  .'\n",
    "str1.rstrip()\n",
    "#removes whitespaces from rightsid ONLY"
   ]
  },
  {
   "cell_type": "code",
   "execution_count": 13,
   "id": "569cfd5c",
   "metadata": {},
   "outputs": [
    {
     "data": {
      "text/plain": [
       "'Q W E R T Y  .'"
      ]
     },
     "execution_count": 13,
     "metadata": {},
     "output_type": "execute_result"
    }
   ],
   "source": [
    "str1 = 'q w e r t y  .'\n",
    "str1.swapcase()\n",
    "#changes the case of each character into oposite"
   ]
  },
  {
   "cell_type": "code",
   "execution_count": 14,
   "id": "03bcf6c8",
   "metadata": {},
   "outputs": [
    {
     "data": {
      "text/plain": [
       "('p', 'y', 'thon')"
      ]
     },
     "execution_count": 14,
     "metadata": {},
     "output_type": "execute_result"
    }
   ],
   "source": [
    "str1 = 'python'\n",
    "str1.partition('y')\n",
    "#exactly 3 parts from left to right"
   ]
  },
  {
   "cell_type": "code",
   "execution_count": 15,
   "id": "f4f7a195",
   "metadata": {},
   "outputs": [
    {
     "data": {
      "text/plain": [
       "('py', 't', 'hon')"
      ]
     },
     "execution_count": 15,
     "metadata": {},
     "output_type": "execute_result"
    }
   ],
   "source": [
    "str1 = 'python'\n",
    "str1.rpartition('t')\n",
    "#right to left"
   ]
  },
  {
   "cell_type": "code",
   "execution_count": 16,
   "id": "afddcb50",
   "metadata": {},
   "outputs": [
    {
     "data": {
      "text/plain": [
       "['python']"
      ]
     },
     "execution_count": 16,
     "metadata": {},
     "output_type": "execute_result"
    }
   ],
   "source": [
    "str1 = 'python'\n",
    "str1.splitlines()\n",
    "#returns a list containing lines"
   ]
  },
  {
   "cell_type": "code",
   "execution_count": 17,
   "id": "a13ee05c",
   "metadata": {},
   "outputs": [
    {
     "data": {
      "text/plain": [
       "True"
      ]
     },
     "execution_count": 17,
     "metadata": {},
     "output_type": "execute_result"
    }
   ],
   "source": [
    "str1 = 'kite12runner'\n",
    "str1.isalnum()\n",
    "#alphanumeric\n",
    "#all characters must be alphabets or num bers"
   ]
  },
  {
   "cell_type": "code",
   "execution_count": 18,
   "id": "deec9cd0",
   "metadata": {},
   "outputs": [
    {
     "data": {
      "text/plain": [
       "False"
      ]
     },
     "execution_count": 18,
     "metadata": {},
     "output_type": "execute_result"
    }
   ],
   "source": [
    "str1 = 'kite12runner'\n",
    "str1.isalpha()\n",
    "#all charactera must be alphabets only"
   ]
  },
  {
   "cell_type": "code",
   "execution_count": 19,
   "id": "8258bc08",
   "metadata": {},
   "outputs": [
    {
     "data": {
      "text/plain": [
       "True"
      ]
     },
     "execution_count": 19,
     "metadata": {},
     "output_type": "execute_result"
    }
   ],
   "source": [
    "str1 = 'kite12runner'\n",
    "str1.isascii()\n",
    "#all characters must be from ascii table"
   ]
  },
  {
   "cell_type": "code",
   "execution_count": 20,
   "id": "885421d9",
   "metadata": {},
   "outputs": [
    {
     "data": {
      "text/plain": [
       "True"
      ]
     },
     "execution_count": 20,
     "metadata": {},
     "output_type": "execute_result"
    }
   ],
   "source": [
    "str1 = '0123456789'\n",
    "str1.isdecimal()\n",
    "#all characters must be from 0 to 9"
   ]
  },
  {
   "cell_type": "code",
   "execution_count": 21,
   "id": "88a1be63",
   "metadata": {},
   "outputs": [
    {
     "data": {
      "text/plain": [
       "True"
      ]
     },
     "execution_count": 21,
     "metadata": {},
     "output_type": "execute_result"
    }
   ],
   "source": [
    "str1 = '2'\n",
    "str1.isdigit()\n",
    "#all characters mus be digits"
   ]
  },
  {
   "cell_type": "code",
   "execution_count": 22,
   "id": "477a0ddd",
   "metadata": {},
   "outputs": [
    {
     "data": {
      "text/plain": [
       "False"
      ]
     },
     "execution_count": 22,
     "metadata": {},
     "output_type": "execute_result"
    }
   ],
   "source": [
    "str1 = '3456'\n",
    "str1.isidentifier()\n",
    "#all charecters must be num bers"
   ]
  },
  {
   "cell_type": "code",
   "execution_count": 23,
   "id": "d331a3e8",
   "metadata": {},
   "outputs": [
    {
     "data": {
      "text/plain": [
       "True"
      ]
     },
     "execution_count": 23,
     "metadata": {},
     "output_type": "execute_result"
    }
   ],
   "source": [
    "str1 = 'high'\n",
    "str1.islower()\n",
    "#all aplphabet characters must be in loweracase"
   ]
  },
  {
   "cell_type": "code",
   "execution_count": 24,
   "id": "b6edf94b",
   "metadata": {},
   "outputs": [
    {
     "data": {
      "text/plain": [
       "False"
      ]
     },
     "execution_count": 24,
     "metadata": {},
     "output_type": "execute_result"
    }
   ],
   "source": [
    "str1 = 'high'\n",
    "str1.isupper()\n",
    "#all aplphabet characters must be in uppercase"
   ]
  },
  {
   "cell_type": "code",
   "execution_count": 25,
   "id": "fdc4e7a4",
   "metadata": {},
   "outputs": [
    {
     "data": {
      "text/plain": [
       "False"
      ]
     },
     "execution_count": 25,
     "metadata": {},
     "output_type": "execute_result"
    }
   ],
   "source": [
    "str1 = 'polo'\n",
    "str1.isspace()\n",
    "#all characters must be white space characters"
   ]
  },
  {
   "cell_type": "code",
   "execution_count": 26,
   "id": "0eae7ff3",
   "metadata": {},
   "outputs": [
    {
     "data": {
      "text/plain": [
       "True"
      ]
     },
     "execution_count": 26,
     "metadata": {},
     "output_type": "execute_result"
    }
   ],
   "source": [
    "str1 = 'polo'\n",
    "str1.isprintable()\n",
    "#all characters must ableto be printed\n",
    "#(returans false for escape characters)"
   ]
  },
  {
   "cell_type": "code",
   "execution_count": 27,
   "id": "63d98f34",
   "metadata": {},
   "outputs": [
    {
     "data": {
      "text/plain": [
       "'lion king'"
      ]
     },
     "execution_count": 27,
     "metadata": {},
     "output_type": "execute_result"
    }
   ],
   "source": [
    "str1 = 'lion king'\n",
    "str1"
   ]
  },
  {
   "cell_type": "code",
   "execution_count": 28,
   "id": "96babae2",
   "metadata": {},
   "outputs": [],
   "source": [
    "                                              MODULE = 3"
   ]
  },
  {
   "cell_type": "code",
   "execution_count": 29,
   "id": "aefa23ec",
   "metadata": {},
   "outputs": [],
   "source": [
    "#list"
   ]
  },
  {
   "cell_type": "code",
   "execution_count": 30,
   "id": "9d9e80bd",
   "metadata": {},
   "outputs": [],
   "source": [
    "#characteristics\n",
    "#ordered,indexed,mutable\n",
    "#all dtdatypes\n",
    "#single element,single,item"
   ]
  },
  {
   "cell_type": "code",
   "execution_count": 31,
   "id": "d37670ab",
   "metadata": {},
   "outputs": [
    {
     "data": {
      "text/plain": [
       "6"
      ]
     },
     "execution_count": 31,
     "metadata": {},
     "output_type": "execute_result"
    }
   ],
   "source": [
    "list1 = [4,5,6,1,2,3,4]\n",
    "list1[2]#accessing the element eith index value \n",
    "#list[2:28]#length then if will consider up to end"
   ]
  },
  {
   "cell_type": "code",
   "execution_count": 32,
   "id": "b767d7f1",
   "metadata": {},
   "outputs": [
    {
     "name": "stdout",
     "output_type": "stream",
     "text": [
      "['p', 'r', 'i', 'f', 3, 5.6, 'vijay']\n"
     ]
    }
   ],
   "source": [
    "list1 = ['p','r','i','f',3,5.6]\n",
    "list1.append('vijay')#inline change\n",
    "print(list1)"
   ]
  },
  {
   "cell_type": "code",
   "execution_count": 33,
   "id": "58d69652",
   "metadata": {},
   "outputs": [
    {
     "name": "stdout",
     "output_type": "stream",
     "text": [
      "['p', 'r', 'i', 'f', 3, 5.6, 'v', 'i', 'j', 'a', 'y']\n"
     ]
    }
   ],
   "source": [
    "list1 = ['p','r','i','f',3,5.6]\n",
    "list1.extend('vijay')#extend(iterable)\n",
    "print(list1)"
   ]
  },
  {
   "cell_type": "code",
   "execution_count": 34,
   "id": "297341bc",
   "metadata": {},
   "outputs": [
    {
     "name": "stdout",
     "output_type": "stream",
     "text": [
      "[]\n"
     ]
    }
   ],
   "source": [
    "list1 = [2,3,4,5]\n",
    "list1.clear()#removes all the elements from the list\n",
    "print(list1)"
   ]
  },
  {
   "cell_type": "code",
   "execution_count": 35,
   "id": "21ef12c9",
   "metadata": {},
   "outputs": [
    {
     "name": "stdout",
     "output_type": "stream",
     "text": [
      "[43, 23, 45, 5, 6]\n"
     ]
    }
   ],
   "source": [
    "list2 = [43,23,45,5,6]\n",
    "copied_list = list2.copy()#returns a copied list\n",
    "print(copied_list )"
   ]
  },
  {
   "cell_type": "code",
   "execution_count": 36,
   "id": "601b0232",
   "metadata": {},
   "outputs": [
    {
     "data": {
      "text/plain": [
       "1"
      ]
     },
     "execution_count": 36,
     "metadata": {},
     "output_type": "execute_result"
    }
   ],
   "source": [
    "list1 = [43,23,45,5,6]\n",
    "list1.index(23)\n",
    "#index(element)//(emement.star,stop)\n",
    "#if element is no found thenfaises an error"
   ]
  },
  {
   "cell_type": "code",
   "execution_count": 37,
   "id": "4f90d219",
   "metadata": {},
   "outputs": [
    {
     "name": "stdout",
     "output_type": "stream",
     "text": [
      "[3, 'krishil', 4, 5]\n"
     ]
    }
   ],
   "source": [
    "list1 = [3,4,5]\n",
    "list1.insert(1,'krishil')#insert(index,element)\n",
    "print(list1)"
   ]
  },
  {
   "cell_type": "code",
   "execution_count": 38,
   "id": "efa67ab3",
   "metadata": {},
   "outputs": [
    {
     "data": {
      "text/plain": [
       "[4, 6, 34, 45, 656, 5, 7]"
      ]
     },
     "execution_count": 38,
     "metadata": {},
     "output_type": "execute_result"
    }
   ],
   "source": [
    "#removes the last element by defalt,\n",
    "#if index is given then it removes element from that index value\n",
    "list1 = [4,5,6,34,45,656,5,7]\n",
    "list1.remove(5)\n",
    "list1"
   ]
  },
  {
   "cell_type": "code",
   "execution_count": 39,
   "id": "5e89fbfe",
   "metadata": {},
   "outputs": [
    {
     "data": {
      "text/plain": [
       "[6, 532, 43, 223]"
      ]
     },
     "execution_count": 39,
     "metadata": {},
     "output_type": "execute_result"
    }
   ],
   "source": [
    "list1 = [223,43,532,6]\n",
    "list1.reverse()#reverse the order of the list\n",
    "list1"
   ]
  },
  {
   "cell_type": "code",
   "execution_count": 40,
   "id": "727397ee",
   "metadata": {},
   "outputs": [
    {
     "data": {
      "text/plain": [
       "[23, 34, 45]"
      ]
     },
     "execution_count": 40,
     "metadata": {},
     "output_type": "execute_result"
    }
   ],
   "source": [
    "#ascending order\n",
    "#list1.sort(reverse = True)\n",
    "list1 = [34,23,45]\n",
    "list1.sort()\n",
    "list1"
   ]
  },
  {
   "cell_type": "code",
   "execution_count": 41,
   "id": "d49e0822",
   "metadata": {},
   "outputs": [],
   "source": [
    "#taple\n",
    "#oreved,indexed,allow duplicates,immutable\n",
    "#tf tuple has only put comma at the end"
   ]
  },
  {
   "cell_type": "code",
   "execution_count": 42,
   "id": "cfc74f75",
   "metadata": {},
   "outputs": [
    {
     "name": "stdout",
     "output_type": "stream",
     "text": [
      "('zeel',)\n"
     ]
    }
   ],
   "source": [
    "t1 = (2,3,4,5,6,7,89,9,4,34,3,4,2,3,4)\n",
    "z = ('zeel',)\n",
    "x = t1[1:]\n",
    "print(z)"
   ]
  },
  {
   "cell_type": "code",
   "execution_count": 43,
   "id": "1d5ebfcf",
   "metadata": {},
   "outputs": [
    {
     "name": "stdout",
     "output_type": "stream",
     "text": [
      "(1, 2, 3, 4, 4, 5, 6, 7)\n"
     ]
    }
   ],
   "source": [
    "t1 = (1,2,3,4)\n",
    "t2 = (4,5,6,7)\n",
    "res = t1+t2\n",
    "print(res)"
   ]
  },
  {
   "cell_type": "code",
   "execution_count": 44,
   "id": "9d16396b",
   "metadata": {},
   "outputs": [
    {
     "name": "stdout",
     "output_type": "stream",
     "text": [
      "7\n"
     ]
    }
   ],
   "source": [
    "#tuple packing, tuple unpacking\n",
    "t1 = (34,45,56)#tuple defing,tuple pack\n",
    "t1,var,er,ytr = (4,5,6,7)#tuple unpacking\n",
    "print(ytr)"
   ]
  },
  {
   "cell_type": "code",
   "execution_count": 45,
   "id": "e110dfa9",
   "metadata": {},
   "outputs": [
    {
     "data": {
      "text/plain": [
       "4"
      ]
     },
     "execution_count": 45,
     "metadata": {},
     "output_type": "execute_result"
    }
   ],
   "source": [
    "tuplel = (23,34,45,56,34,45,45,45)\n",
    "tuplel.count(45)"
   ]
  },
  {
   "cell_type": "code",
   "execution_count": 46,
   "id": "8bad4068",
   "metadata": {},
   "outputs": [
    {
     "data": {
      "text/plain": [
       "1"
      ]
     },
     "execution_count": 46,
     "metadata": {},
     "output_type": "execute_result"
    }
   ],
   "source": [
    "t3 = ('a','f','a','b',\"'a',\")\n",
    "t3.count(\"'a',\")"
   ]
  },
  {
   "cell_type": "code",
   "execution_count": 47,
   "id": "148d725b",
   "metadata": {},
   "outputs": [
    {
     "data": {
      "text/plain": [
       "1"
      ]
     },
     "execution_count": 47,
     "metadata": {},
     "output_type": "execute_result"
    }
   ],
   "source": [
    "t4 = (4,5,4,4,5,4,4,4,456,768)\n",
    "t4.index(5)\n",
    "#finds the index value of given element \n",
    "#left to fight first occurence"
   ]
  },
  {
   "cell_type": "code",
   "execution_count": null,
   "id": "96208b4b",
   "metadata": {},
   "outputs": [],
   "source": [
    "#set"
   ]
  },
  {
   "cell_type": "code",
   "execution_count": null,
   "id": "3ecbef69",
   "metadata": {},
   "outputs": [],
   "source": [
    "#characteristics\n",
    "#unordered,mutable,Does no ollow duplicate values\n",
    "#we can stare only immutable datatypes in set"
   ]
  },
  {
   "cell_type": "code",
   "execution_count": 7,
   "id": "da111a11",
   "metadata": {},
   "outputs": [
    {
     "name": "stdout",
     "output_type": "stream",
     "text": [
      "89\n",
      "90\n",
      "3.4\n",
      "-67\n"
     ]
    }
   ],
   "source": [
    "set1 = {-67,89,3.4,90,3.4}\n",
    "for i in set1:\n",
    "    print(i)"
   ]
  },
  {
   "cell_type": "code",
   "execution_count": 9,
   "id": "50ff89be",
   "metadata": {},
   "outputs": [
    {
     "data": {
      "text/plain": [
       "{(23, 45, 54), 23, 6.7, True, 'abcd'}"
      ]
     },
     "execution_count": 9,
     "metadata": {},
     "output_type": "execute_result"
    }
   ],
   "source": [
    "set1 = {23,6.7,True,'abcd',(23,45,54)}\n",
    "set1"
   ]
  },
  {
   "cell_type": "code",
   "execution_count": 13,
   "id": "0ad16b91",
   "metadata": {},
   "outputs": [
    {
     "data": {
      "text/plain": [
       "{23, 546, 67, 'khushal'}"
      ]
     },
     "execution_count": 13,
     "metadata": {},
     "output_type": "execute_result"
    }
   ],
   "source": [
    "set1 = {23,546,67}\n",
    "set2 = {56,34,56}\n",
    "\n",
    "set1.add('khushal')#adds the single element to the set\n",
    "set1"
   ]
  },
  {
   "cell_type": "code",
   "execution_count": 14,
   "id": "70a529d6",
   "metadata": {},
   "outputs": [
    {
     "data": {
      "text/plain": [
       "{23, 546, 67, 'a', 'h', 'k', 'l', 's', 'u'}"
      ]
     },
     "execution_count": 14,
     "metadata": {},
     "output_type": "execute_result"
    }
   ],
   "source": [
    "set1 = {23,546,67}\n",
    "set2 = {56,34,56}\n",
    "\n",
    "set1.update('khushal')#adds all the element one bnby one \n",
    "set1"
   ]
  },
  {
   "cell_type": "code",
   "execution_count": 16,
   "id": "abeb795c",
   "metadata": {},
   "outputs": [
    {
     "data": {
      "text/plain": [
       "set()"
      ]
     },
     "execution_count": 16,
     "metadata": {},
     "output_type": "execute_result"
    }
   ],
   "source": [
    "set1 = {'a','k','i','eric'}\n",
    "set2 = {'eric','k','nitin'}\n",
    "\n",
    "set1.clear()#removes all the elements from the set\n",
    "set1"
   ]
  },
  {
   "cell_type": "code",
   "execution_count": 18,
   "id": "18355005",
   "metadata": {},
   "outputs": [
    {
     "data": {
      "text/plain": [
       "{'a', 'eric', 'i', 'k'}"
      ]
     },
     "execution_count": 18,
     "metadata": {},
     "output_type": "execute_result"
    }
   ],
   "source": [
    "set1 = {'a','k','i','eric'}\n",
    "set2 = {'eric','k','nitin'}\n",
    "\n",
    "set1.copy()#removes a copy of a new set\n",
    "set1"
   ]
  },
  {
   "cell_type": "code",
   "execution_count": 22,
   "id": "5f3749d8",
   "metadata": {},
   "outputs": [
    {
     "data": {
      "text/plain": [
       "{'a', 'eric', 'i', 'k'}"
      ]
     },
     "execution_count": 22,
     "metadata": {},
     "output_type": "execute_result"
    }
   ],
   "source": [
    "set1 = {'a','k','i','eric'}\n",
    "set2 = {'eric','k','nitin'}\n",
    " \n",
    "set1.difference(set2)\n",
    "set1"
   ]
  },
  {
   "cell_type": "code",
   "execution_count": 21,
   "id": "51e30c24",
   "metadata": {},
   "outputs": [
    {
     "data": {
      "text/plain": [
       "{'a', 'i'}"
      ]
     },
     "execution_count": 21,
     "metadata": {},
     "output_type": "execute_result"
    }
   ],
   "source": [
    "set1 = {'a','k','i','eric'}\n",
    "set2 = {'eric','k','nitin'}\n",
    "\n",
    "set1.difference_update(set2)\n",
    "set1"
   ]
  },
  {
   "cell_type": "code",
   "execution_count": 29,
   "id": "749bbfc3",
   "metadata": {},
   "outputs": [
    {
     "data": {
      "text/plain": [
       "{34, 45, 67, 452}"
      ]
     },
     "execution_count": 29,
     "metadata": {},
     "output_type": "execute_result"
    }
   ],
   "source": [
    "set1 = {45,34,452,67}\n",
    "set2 = {45,23,451,56}\n",
    "#removes the element which is given\n",
    "set1.discard('krishil')#does not raise an error\n",
    "set1"
   ]
  },
  {
   "cell_type": "code",
   "execution_count": 4,
   "id": "9fb456f3",
   "metadata": {},
   "outputs": [
    {
     "ename": "KeyError",
     "evalue": "{56, 451, 45, 23}",
     "output_type": "error",
     "traceback": [
      "\u001b[1;31m---------------------------------------------------------------------------\u001b[0m",
      "\u001b[1;31mKeyError\u001b[0m                                  Traceback (most recent call last)",
      "Input \u001b[1;32mIn [4]\u001b[0m, in \u001b[0;36m<cell line: 4>\u001b[1;34m()\u001b[0m\n\u001b[0;32m      2\u001b[0m set2 \u001b[38;5;241m=\u001b[39m {\u001b[38;5;241m45\u001b[39m,\u001b[38;5;241m23\u001b[39m,\u001b[38;5;241m451\u001b[39m,\u001b[38;5;241m56\u001b[39m}\n\u001b[0;32m      3\u001b[0m \u001b[38;5;66;03m#removes the element which is given\u001b[39;00m\n\u001b[1;32m----> 4\u001b[0m \u001b[43mset1\u001b[49m\u001b[38;5;241;43m.\u001b[39;49m\u001b[43mremove\u001b[49m\u001b[43m(\u001b[49m\u001b[43mset2\u001b[49m\u001b[43m)\u001b[49m\n",
      "\u001b[1;31mKeyError\u001b[0m: {56, 451, 45, 23}"
     ]
    }
   ],
   "source": [
    "set1 = {45,34,452,67}\n",
    "set2 = {45,23,451,56}\n",
    "#removes the element which is given\n",
    "set1.remove('krishil) #raises an error when elements is not found \n"
   ]
  },
  {
   "cell_type": "code",
   "execution_count": 38,
   "id": "acceda7c",
   "metadata": {},
   "outputs": [
    {
     "data": {
      "text/plain": [
       "{0}"
      ]
     },
     "execution_count": 38,
     "metadata": {},
     "output_type": "execute_result"
    }
   ],
   "source": [
    "set1 = {45,0,34,452,67}\n",
    "set2 = {4.5,0,23,451,56}\n",
    "\n",
    "set1.intersection(set2)#returns a set containing common values"
   ]
  },
  {
   "cell_type": "code",
   "execution_count": 40,
   "id": "33dec07d",
   "metadata": {},
   "outputs": [
    {
     "data": {
      "text/plain": [
       "{0}"
      ]
     },
     "execution_count": 40,
     "metadata": {},
     "output_type": "execute_result"
    }
   ],
   "source": [
    "set1 = {45,0,34,452,67}\n",
    "set2 = {4.5,0,23,451,56}\n",
    "\n",
    "set1.intersection_update(set2)#updates the output into the set1 \n",
    "set1"
   ]
  },
  {
   "cell_type": "code",
   "execution_count": 45,
   "id": "d9a45964",
   "metadata": {},
   "outputs": [
    {
     "data": {
      "text/plain": [
       "34"
      ]
     },
     "execution_count": 45,
     "metadata": {},
     "output_type": "execute_result"
    }
   ],
   "source": [
    "s1 = {34,5,6,23,45,7}\n",
    "s2 = {5,6,72,2889}\n",
    "\n",
    "s1.pop()#removes the element and returns it"
   ]
  },
  {
   "cell_type": "code",
   "execution_count": 46,
   "id": "5283d69d",
   "metadata": {},
   "outputs": [
    {
     "data": {
      "text/plain": [
       "{7, 23, 34, 45, 72, 2889}"
      ]
     },
     "execution_count": 46,
     "metadata": {},
     "output_type": "execute_result"
    }
   ],
   "source": [
    "s1 = {34,5,6,23,45,7}\n",
    "s2 = {5,6,72,2889}\n",
    "\n",
    "s1.symmetric_difference(s2)#returns the set cantaining non common values"
   ]
  },
  {
   "cell_type": "code",
   "execution_count": 6,
   "id": "247e458e",
   "metadata": {},
   "outputs": [],
   "source": [
    "s1 = {34,5,6,23,45,7}\n",
    "s2 = {5,6,72,2889}\n",
    "\n",
    "s1.symmetric_difference_update(s2)#inline change"
   ]
  },
  {
   "cell_type": "code",
   "execution_count": 47,
   "id": "709162ba",
   "metadata": {},
   "outputs": [
    {
     "data": {
      "text/plain": [
       "{5, 6, 7, 23, 34, 45, 72, 2889}"
      ]
     },
     "execution_count": 47,
     "metadata": {},
     "output_type": "execute_result"
    }
   ],
   "source": [
    "s1 = {34,5,6,23,45,7}\n",
    "s2 = {5,6,72,2889}\n",
    "\n",
    "s1.union(s2)#returns a set conatiting all the values of both set"
   ]
  },
  {
   "cell_type": "code",
   "execution_count": 48,
   "id": "769b2591",
   "metadata": {},
   "outputs": [
    {
     "data": {
      "text/plain": [
       "False"
      ]
     },
     "execution_count": 48,
     "metadata": {},
     "output_type": "execute_result"
    }
   ],
   "source": [
    "s1 = {'a','b','c','d'}\n",
    "s2 = {'b','d'}\n",
    "#s1 is disjoint of s2\n",
    "s1.isdisjoint(s2)#checks whether both sets are disjoint set or not "
   ]
  },
  {
   "cell_type": "code",
   "execution_count": 49,
   "id": "d02d6f89",
   "metadata": {},
   "outputs": [
    {
     "data": {
      "text/plain": [
       "False"
      ]
     },
     "execution_count": 49,
     "metadata": {},
     "output_type": "execute_result"
    }
   ],
   "source": [
    "s1 = {'a','b','c','d'}\n",
    "s2 = {'b','d'}\n",
    "#s1 is disjoint of s2\n",
    "s1.issubset(s2)"
   ]
  },
  {
   "cell_type": "code",
   "execution_count": 50,
   "id": "69c7ff32",
   "metadata": {},
   "outputs": [
    {
     "data": {
      "text/plain": [
       "True"
      ]
     },
     "execution_count": 50,
     "metadata": {},
     "output_type": "execute_result"
    }
   ],
   "source": [
    "s1 = {'a','b','c','d'}\n",
    "s2 = {'b','d'}\n",
    "#s1 is disjoint of s2\n",
    "s1.issuperset(s2)"
   ]
  },
  {
   "cell_type": "code",
   "execution_count": null,
   "id": "16b221c3",
   "metadata": {},
   "outputs": [],
   "source": [
    "#dictionary"
   ]
  },
  {
   "cell_type": "code",
   "execution_count": 48,
   "id": "db4a1b9a",
   "metadata": {},
   "outputs": [],
   "source": [
    "\n",
    "#chalycteristics\n",
    "#ordered,mutable,keys shoutd be unique\n",
    "#single pair is and element litem key:value\n",
    "#bey = immutable datatypes \n",
    "#value = all datatypes"
   ]
  },
  {
   "cell_type": "code",
   "execution_count": null,
   "id": "7ec63074",
   "metadata": {},
   "outputs": [],
   "source": [
    "immutable datatypes\n",
    "#tuple,string,float,int,bool\n",
    "\n",
    "mutable datatypes\n",
    "#list,dictionary,set"
   ]
  },
  {
   "cell_type": "code",
   "execution_count": null,
   "id": "311d4a6c",
   "metadata": {},
   "outputs": [],
   "source": [
    "dict1 = {'apple':'a fruit','staircase':'steps'}\n",
    "dict1 = ('apple')"
   ]
  },
  {
   "cell_type": "code",
   "execution_count": null,
   "id": "01f002b8",
   "metadata": {},
   "outputs": [],
   "source": [
    "d1 = {'a':23,'b':23,'a':990,'k':23}\n",
    "len(d1)\n",
    "#d1['k']\n",
    "#print(d1)"
   ]
  },
  {
   "cell_type": "code",
   "execution_count": null,
   "id": "6efca583",
   "metadata": {},
   "outputs": [],
   "source": [
    "d1 = {'a':23,'b':23,'c':23,'a':888,'k':23}\n",
    "for i in d1:\n",
    "    print(i)"
   ]
  },
  {
   "cell_type": "code",
   "execution_count": null,
   "id": "a6872b50",
   "metadata": {},
   "outputs": [],
   "source": [
    "marksheet = {'khushal':78,'jeel':80,'vijay':40}\n",
    "for key in marksheet:\n",
    "    print(key,':',marksheet[key])"
   ]
  },
  {
   "cell_type": "code",
   "execution_count": null,
   "id": "3aa8a212",
   "metadata": {},
   "outputs": [],
   "source": [
    "marksheet = {'khushal':78,'jeel':80,'vijay':40}\n",
    "marksheet['krishail'] = 0\n",
    "marksheet['jenil'] = 0\n",
    "marksheet.clear()#removes all the elements(pairs)\n",
    "print(marksheet)"
   ]
  },
  {
   "cell_type": "code",
   "execution_count": null,
   "id": "076b0754",
   "metadata": {},
   "outputs": [],
   "source": [
    "marksheet = {'khushal':78,'jeel':80,'vijay':40}\n",
    "marksheet.copy()"
   ]
  },
  {
   "cell_type": "code",
   "execution_count": null,
   "id": "72cb8698",
   "metadata": {},
   "outputs": [],
   "source": [
    "marksheet = {'khushal':78,'jeel':80,'vijay':40}\n",
    "marksheet.get('jeel')#gets the value of given key"
   ]
  },
  {
   "cell_type": "code",
   "execution_count": null,
   "id": "0a91fc7e",
   "metadata": {},
   "outputs": [],
   "source": [
    "marksheet = {'khushal':78,'jeel':80,'vijay':40}\n",
    "for i in marksheet.keys():#only keys in list\n",
    "    print(i)"
   ]
  },
  {
   "cell_type": "code",
   "execution_count": null,
   "id": "2d97dbbf",
   "metadata": {},
   "outputs": [],
   "source": [
    "marksheet = {'khushal':78,'jeel':80,'vijay':40}\n",
    "for i in marksheet.values():#only values in a list\n",
    "    print(i)"
   ]
  },
  {
   "cell_type": "code",
   "execution_count": null,
   "id": "3225a3db",
   "metadata": {},
   "outputs": [],
   "source": [
    "d1 = {'1':12,'a':34,'r':23,False:234,0:888}\n",
    "#len(d1)\n",
    "print(d1)"
   ]
  },
  {
   "cell_type": "code",
   "execution_count": null,
   "id": "67f741b0",
   "metadata": {},
   "outputs": [],
   "source": [
    "d2 = {1:34,True:888}\n",
    "d1 = {False:234,0:888}\n",
    "len(d1)\n",
    "print(d2)\n",
    "#True and 1 are eaud dict keys\n",
    "#False and 0 are eaual dict keys"
   ]
  },
  {
   "cell_type": "code",
   "execution_count": null,
   "id": "23e0149d",
   "metadata": {},
   "outputs": [],
   "source": [
    "d1 = {'a':90,'b':78}\n",
    "d1.pop('a')#removes the item of wihch key is given"
   ]
  },
  {
   "cell_type": "code",
   "execution_count": null,
   "id": "816677d6",
   "metadata": {},
   "outputs": [],
   "source": [
    "d1 = {'a':90,'b':78}\n",
    "d1.popitem()#removes the last element lithem\n",
    "d1"
   ]
  },
  {
   "cell_type": "code",
   "execution_count": null,
   "id": "c5dabf4d",
   "metadata": {},
   "outputs": [],
   "source": [
    "d1 = {'a':90,'b':78}\n",
    "d1.update({'krishil':23,'jenil':45})\n",
    "print(d1)"
   ]
  },
  {
   "cell_type": "code",
   "execution_count": null,
   "id": "9bbc3290",
   "metadata": {},
   "outputs": [],
   "source": [
    "d1 = {'a':None,'d':None}\n",
    "d1.fromkeys([2,3,4,5])"
   ]
  },
  {
   "cell_type": "code",
   "execution_count": null,
   "id": "c15d3643",
   "metadata": {},
   "outputs": [],
   "source": [
    "dd1 = {'a':45,'b':56}\n",
    "dd1.setdefault(1,'op in the chat')\n",
    "dd1\n",
    "#kuch ahi : None"
   ]
  },
  {
   "cell_type": "code",
   "execution_count": null,
   "id": "a567a5cd",
   "metadata": {},
   "outputs": [],
   "source": []
  },
  {
   "cell_type": "code",
   "execution_count": null,
   "id": "aa2849f2",
   "metadata": {},
   "outputs": [],
   "source": []
  },
  {
   "cell_type": "code",
   "execution_count": null,
   "id": "34269f99",
   "metadata": {},
   "outputs": [],
   "source": [
    "#function : block of code which will do the work when I call it\n",
    "#one time define \n",
    "#whenever we want , how many times we want it will work everytime "
   ]
  },
  {
   "cell_type": "code",
   "execution_count": null,
   "id": "41f40171",
   "metadata": {},
   "outputs": [],
   "source": [
    "1.Training (defination | define)\n",
    "2.caling"
   ]
  },
  {
   "cell_type": "code",
   "execution_count": null,
   "id": "82c1f797",
   "metadata": {},
   "outputs": [],
   "source": [
    "def shampoo (a): #parameters\n",
    "    return a ** 2\n",
    "shampoo (3)  #arguments"
   ]
  },
  {
   "cell_type": "code",
   "execution_count": null,
   "id": "532028a5",
   "metadata": {},
   "outputs": [],
   "source": [
    "None : null value (nothing,kal nahi)\n",
    "None keword"
   ]
  },
  {
   "cell_type": "code",
   "execution_count": null,
   "id": "a0947e6d",
   "metadata": {},
   "outputs": [],
   "source": [
    "def summition (var1,var2):  #by defalut fucntion returns None\n",
    "    c = var1 + var2\n",
    "    return c\n",
    "summition(34,45)"
   ]
  },
  {
   "cell_type": "code",
   "execution_count": 51,
   "id": "7487cf44",
   "metadata": {},
   "outputs": [],
   "source": [
    "def gfg (no_of_lines):\n",
    "    for i in range(no_of_lines - no_of_lines//2):\n",
    "        str1 = ''\n",
    "        for j in range(i+1):\n",
    "            str1 +='* '\n",
    "        upper = str1.center(no_of_lines)\n",
    "        print(upper)\n",
    "    \n",
    "    for a in range(no_of_lines - no_of_lines//2-1,0,-1):\n",
    "        str1 = ''\n",
    "        for b in range(a):\n",
    "            str1 +='* '\n",
    "        lower = str1.center(no_of_lines)\n",
    "        print(lower)"
   ]
  },
  {
   "cell_type": "code",
   "execution_count": 52,
   "id": "4455cb01",
   "metadata": {},
   "outputs": [
    {
     "name": "stdout",
     "output_type": "stream",
     "text": [
      "   *   \n",
      "  * *  \n",
      " * * * \n",
      "* * * * \n",
      " * * * \n",
      "  * *  \n",
      "   *   \n"
     ]
    }
   ],
   "source": [
    "gfg(7)"
   ]
  },
  {
   "cell_type": "code",
   "execution_count": null,
   "id": "2944551d",
   "metadata": {},
   "outputs": [],
   "source": [
    "1.User Defined\n",
    "2.Built - in\n",
    "3.Anonymovs"
   ]
  },
  {
   "cell_type": "code",
   "execution_count": 54,
   "id": "52642443",
   "metadata": {},
   "outputs": [
    {
     "name": "stdout",
     "output_type": "stream",
     "text": [
      "45\n"
     ]
    }
   ],
   "source": [
    "def f1(a):  #a = 45\n",
    "    var1 = a  #var1 =45\n",
    "    print(var1)\n",
    "f1(45)\n"
   ]
  },
  {
   "cell_type": "code",
   "execution_count": 55,
   "id": "15cc6eca",
   "metadata": {},
   "outputs": [
    {
     "name": "stdout",
     "output_type": "stream",
     "text": [
      "6\n",
      "45\n"
     ]
    }
   ],
   "source": [
    "t1 = 90\n",
    "def f1(a):\n",
    "    var1 = 45  #(nonlocal scope for f2)\n",
    "    multiply = 6\n",
    "    def f2 (num):#(f2 nolocal scope)\n",
    "        print(multiply)\n",
    "        add1 = multiply\n",
    "        print(var1)\n",
    "    f2(a)\n",
    "f1(3)"
   ]
  },
  {
   "cell_type": "code",
   "execution_count": 2,
   "id": "b8a620c6",
   "metadata": {},
   "outputs": [
    {
     "name": "stdout",
     "output_type": "stream",
     "text": [
      "20\n"
     ]
    }
   ],
   "source": [
    "fg = 56\n",
    "def f1(a): #a = 45\n",
    "    var1 = a #var1 = 45\n",
    "    x = 10 \n",
    "    print(y)\n",
    "    print(var1)\n",
    "def f1(a):\n",
    "    y =20\n",
    "    print(y)\n",
    "f1(45)\n"
   ]
  },
  {
   "cell_type": "code",
   "execution_count": 4,
   "id": "59fe2ab0",
   "metadata": {},
   "outputs": [
    {
     "name": "stdout",
     "output_type": "stream",
     "text": [
      "6\n"
     ]
    },
    {
     "ename": "NameError",
     "evalue": "name 'multipay' is not defined",
     "output_type": "error",
     "traceback": [
      "\u001b[1;31m---------------------------------------------------------------------------\u001b[0m",
      "\u001b[1;31mNameError\u001b[0m                                 Traceback (most recent call last)",
      "Input \u001b[1;32mIn [4]\u001b[0m, in \u001b[0;36m<cell line: 11>\u001b[1;34m()\u001b[0m\n\u001b[0;32m      9\u001b[0m         \u001b[38;5;28mprint\u001b[39m(var1)\n\u001b[0;32m     10\u001b[0m     f2(a)\n\u001b[1;32m---> 11\u001b[0m \u001b[43mf1\u001b[49m\u001b[43m(\u001b[49m\u001b[38;5;241;43m3\u001b[39;49m\u001b[43m)\u001b[49m\n",
      "Input \u001b[1;32mIn [4]\u001b[0m, in \u001b[0;36mf1\u001b[1;34m(a)\u001b[0m\n\u001b[0;32m      8\u001b[0m     add1 \u001b[38;5;241m=\u001b[39m multipay \n\u001b[0;32m      9\u001b[0m     \u001b[38;5;28mprint\u001b[39m(var1)\n\u001b[1;32m---> 10\u001b[0m \u001b[43mf2\u001b[49m\u001b[43m(\u001b[49m\u001b[43ma\u001b[49m\u001b[43m)\u001b[49m\n",
      "Input \u001b[1;32mIn [4]\u001b[0m, in \u001b[0;36mf1.<locals>.f2\u001b[1;34m(num)\u001b[0m\n\u001b[0;32m      5\u001b[0m \u001b[38;5;28;01mdef\u001b[39;00m \u001b[38;5;21mf2\u001b[39m (num):\n\u001b[0;32m      6\u001b[0m     \u001b[38;5;66;03m#(f2 nolopcal scope)\u001b[39;00m\n\u001b[0;32m      7\u001b[0m     \u001b[38;5;28mprint\u001b[39m(multiply)\n\u001b[1;32m----> 8\u001b[0m     add1 \u001b[38;5;241m=\u001b[39m \u001b[43mmultipay\u001b[49m \n\u001b[0;32m      9\u001b[0m     \u001b[38;5;28mprint\u001b[39m(var1)\n",
      "\u001b[1;31mNameError\u001b[0m: name 'multipay' is not defined"
     ]
    }
   ],
   "source": [
    "t1 = 90\n",
    "def f1(a):\n",
    "    var1 = 45 #(nonlocal  scope for f2)\n",
    "    multiply = 6\n",
    "    def f2 (num):\n",
    "        #(f2 nolopcal scope)\n",
    "        print(multiply)\n",
    "        add1 = multipay \n",
    "        print(var1)\n",
    "    f2(a)\n",
    "f1(3)"
   ]
  },
  {
   "cell_type": "code",
   "execution_count": 6,
   "id": "7019f8d1",
   "metadata": {},
   "outputs": [
    {
     "name": "stdout",
     "output_type": "stream",
     "text": [
      "this\n",
      "89\n",
      "local scope of g1\n",
      "line2\n",
      "100\n"
     ]
    },
    {
     "ename": "NameError",
     "evalue": "name 'l1' is not defined",
     "output_type": "error",
     "traceback": [
      "\u001b[1;31m---------------------------------------------------------------------------\u001b[0m",
      "\u001b[1;31mNameError\u001b[0m                                 Traceback (most recent call last)",
      "Input \u001b[1;32mIn [6]\u001b[0m, in \u001b[0;36m<cell line: 12>\u001b[1;34m()\u001b[0m\n\u001b[0;32m     10\u001b[0m     \u001b[38;5;28mprint\u001b[39m(jeel)\n\u001b[0;32m     11\u001b[0m d1()\n\u001b[1;32m---> 12\u001b[0m \u001b[38;5;28mprint\u001b[39m(\u001b[43ml1\u001b[49m)\n",
      "\u001b[1;31mNameError\u001b[0m: name 'l1' is not defined"
     ]
    }
   ],
   "source": [
    "jeel = 100\n",
    "def d1():\n",
    "    l1 = 89\n",
    "    print('this')\n",
    "    def g1():\n",
    "        print(l1)\n",
    "        print('local scope of g1')\n",
    "        print('line2')\n",
    "    g1()\n",
    "    print(jeel)\n",
    "d1()\n",
    "print(l1)"
   ]
  },
  {
   "cell_type": "code",
   "execution_count": null,
   "id": "b821a50b",
   "metadata": {},
   "outputs": [],
   "source": [
    "1.User Defined - user defined the function and calls the function\n",
    "2.Built - In - already defined functions,we just have to calls it\n",
    "3.Anonymous"
   ]
  },
  {
   "cell_type": "code",
   "execution_count": 5,
   "id": "1352e1d7",
   "metadata": {},
   "outputs": [
    {
     "data": {
      "text/plain": [
       "-12345"
      ]
     },
     "execution_count": 5,
     "metadata": {},
     "output_type": "execute_result"
    }
   ],
   "source": [
    "#Built - In\n",
    "\n",
    "#1.print()\n",
    "#2.type()\n",
    "#3.len()\n",
    "#4.list(range(l1))\n",
    "#5.float(12)\n",
    "#6.int(2.99)\n",
    "#7.list()\n",
    "#8.set()\n",
    "#9.tuple()\n",
    "#10.dict()\n",
    "#11.round()\n",
    "#12.ord()\n",
    "\n",
    "# ~ tilde\n",
    "# ^ cap\n",
    "# ` bark tick\n",
    "# ! exclamation mark\n",
    "# | pipe\n",
    "\n",
    "#13.chr(94)\n",
    "#l1 = [123,12,23,3,5,5,5,56,6,6,63]\n",
    "#syntax:\n",
    "#filter (function,collection)\n",
    "#def fun1 (z):\n",
    "#    if z % 2 == 0:\n",
    "#        return True\n",
    "#    else:\n",
    "#        return False\n",
    "#list(filter(fun1,l1))\n",
    "\n",
    "#syntax:\n",
    "#map(function,collection)\n",
    "#list =[23.99,'56',7.6,44.67,87]\n",
    "#list(map(int,list))\n",
    "\n",
    "#def ff1 (d):\n",
    "#    return d * 2\n",
    "#list(map(ff1,list1))\n",
    "\n",
    "#14.zip()\n",
    "#syntax\n",
    "#zip(collection,collection)\n",
    "#list(zip([1,2,3],['a','b','c']))\n",
    "\n",
    "#15.eval()\n",
    "#eval(str1)(evaluate)\n",
    "#eval('23 + 89 * 6 / 89 * 34 + 1 - 45')\n",
    "#str1 = 'krishil'\n",
    "#eval('str1.title()')\n",
    "\n",
    "#16.isinstance()\n",
    "#isinstance(value,datatypes)\n",
    "#isinstance({'9a':90},dict)\n",
    "\n",
    "#17.max()\n",
    "#max(iterable)\n",
    "#max([34,-23,34,23,56,78,900,-12345,7854])\n",
    "\n",
    "#18.min()\n",
    "#min([34,-23,34,23,56,78,900,-12345,7854])"
   ]
  },
  {
   "cell_type": "code",
   "execution_count": 6,
   "id": "5550b866",
   "metadata": {},
   "outputs": [
    {
     "data": {
      "text/plain": [
       "{'a': 45,\n",
       " 'b': 67,\n",
       " 'c': 89,\n",
       " 0: 'lion',\n",
       " 12: 'baar',\n",
       " 1: 'updated one',\n",
       " 'df': 'ywue'}"
      ]
     },
     "execution_count": 6,
     "metadata": {},
     "output_type": "execute_result"
    }
   ],
   "source": [
    "d1 = {'a':45,'b':67,'c':89}\n",
    "d1[0] = 'khushal'\n",
    "d1[12] = 'baar'\n",
    "d1[False] = 'lion'\n",
    "d1[1] = 'one'\n",
    "d1['df'] = 'ywue'\n",
    "d1[1] = 'updated one'\n",
    "d1"
   ]
  },
  {
   "cell_type": "code",
   "execution_count": null,
   "id": "297d0f18",
   "metadata": {},
   "outputs": [],
   "source": [
    "l1 = []\n",
    "t1 = ()\n",
    "s1 = {} #empty dict\n",
    "d1 = {} #empty dict     \n",
    "h = set() #empty set\n",
    "len(h)"
   ]
  },
  {
   "cell_type": "code",
   "execution_count": null,
   "id": "b5548725",
   "metadata": {},
   "outputs": [],
   "source": [
    "#3.Anonymous function (Lambda function)\n",
    "\n",
    "#expression : something which returns some value\n",
    "#syntax:\n",
    "#lambda parameters : single expresion"
   ]
  },
  {
   "cell_type": "code",
   "execution_count": null,
   "id": "03c7f113",
   "metadata": {},
   "outputs": [],
   "source": [
    "I.M.P # MULTIPLE PARAMETERS,SINGLE EXPRESSION"
   ]
  },
  {
   "cell_type": "code",
   "execution_count": 1,
   "id": "f4710220",
   "metadata": {},
   "outputs": [
    {
     "data": {
      "text/plain": [
       "4"
      ]
     },
     "execution_count": 1,
     "metadata": {},
     "output_type": "execute_result"
    }
   ],
   "source": [
    "#var1 = lambda a,b : a<b\n",
    "var1 = lambda a,b : a + b\n",
    "var1(1,3)"
   ]
  },
  {
   "cell_type": "code",
   "execution_count": null,
   "id": "dadb0e35",
   "metadata": {},
   "outputs": [],
   "source": []
  }
 ],
 "metadata": {
  "kernelspec": {
   "display_name": "Python 3 (ipykernel)",
   "language": "python",
   "name": "python3"
  },
  "language_info": {
   "codemirror_mode": {
    "name": "ipython",
    "version": 3
   },
   "file_extension": ".py",
   "mimetype": "text/x-python",
   "name": "python",
   "nbconvert_exporter": "python",
   "pygments_lexer": "ipython3",
   "version": "3.9.12"
  }
 },
 "nbformat": 4,
 "nbformat_minor": 5
}
