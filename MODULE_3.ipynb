{
 "cells": [
  {
   "cell_type": "code",
   "execution_count": 3,
   "id": "29aab45e",
   "metadata": {},
   "outputs": [
    {
     "name": "stdout",
     "output_type": "stream",
     "text": [
      "[10, 9, 8, 7, 6, 5, 4, 3, 2, 1]\n"
     ]
    }
   ],
   "source": [
    "#1.What is List? How will you reverse a list?\n",
    "\n",
    "str1 = [1,2,3,4,5,6,7,8,9,10]\n",
    "str1.reverse()\n",
    "print(str1)"
   ]
  },
  {
   "cell_type": "code",
   "execution_count": 1,
   "id": "f719929b",
   "metadata": {},
   "outputs": [
    {
     "name": "stdout",
     "output_type": "stream",
     "text": [
      "[2, 1, 1, 4, 5]\n"
     ]
    }
   ],
   "source": [
    "#2.How will you remove last object from a list?\n",
    "\n",
    "list1 = [ 1, 2, 1, 1, 4, 5 ]\n",
    "list1.remove(1)\n",
    "print(list1)"
   ]
  },
  {
   "cell_type": "code",
   "execution_count": 2,
   "id": "f16cdf92",
   "metadata": {},
   "outputs": [
    {
     "data": {
      "text/plain": [
       "25"
      ]
     },
     "execution_count": 2,
     "metadata": {},
     "output_type": "execute_result"
    }
   ],
   "source": [
    "#3.Suppose list1 is [2, 33, 222, 14, and 25], what is list1 [-1]?\n",
    "\n",
    "list1 = [2, 33, 222, 14, 25]\n",
    "list1[-1]"
   ]
  },
  {
   "cell_type": "code",
   "execution_count": 13,
   "id": "8f535c5d",
   "metadata": {},
   "outputs": [
    {
     "name": "stdout",
     "output_type": "stream",
     "text": [
      "[1, 2, 3, 4, 5]\n",
      "[1, 2, 3, 4, 5, 6, 7, 8, 9, 10]\n"
     ]
    }
   ],
   "source": [
    "#4.Differentiate between append () and extend () methods?\n",
    "\n",
    "list1 = [1,2,3,4]\n",
    "list1.append(5)\n",
    "print(list1)\n",
    "\n",
    "list1 = [1,2,3,4,5]\n",
    "list2 = [6,7,8,9,10]\n",
    "list1.extend(list2)\n",
    "print(list1)"
   ]
  },
  {
   "cell_type": "code",
   "execution_count": null,
   "id": "751d752d",
   "metadata": {},
   "outputs": [],
   "source": [
    "#5.Write a Python function to get the largest number,smallest num and sum of all from a list.\n",
    "\n"
   ]
  },
  {
   "cell_type": "code",
   "execution_count": 7,
   "id": "393b72d7",
   "metadata": {},
   "outputs": [
    {
     "name": "stdout",
     "output_type": "stream",
     "text": [
      "False\n"
     ]
    }
   ],
   "source": [
    "#6.How will you compare two lists?\n",
    "\n",
    "list1 = [1, 2, 3, 4, 5]\n",
    "list2 = [1, 2, 3, 4, 5]\n",
    "\n",
    "for i in range(len(list1)):\n",
    "    if list1[i] != list2[i]:\n",
    "        print(False)\n",
    "        break\n",
    "else:\n",
    "    print(True)"
   ]
  },
  {
   "cell_type": "code",
   "execution_count": null,
   "id": "cd371d6f",
   "metadata": {},
   "outputs": [],
   "source": []
  },
  {
   "cell_type": "code",
   "execution_count": null,
   "id": "61b51dac",
   "metadata": {},
   "outputs": [],
   "source": []
  },
  {
   "cell_type": "code",
   "execution_count": null,
   "id": "006dfd12",
   "metadata": {},
   "outputs": [],
   "source": []
  },
  {
   "cell_type": "code",
   "execution_count": null,
   "id": "7db5a6ec",
   "metadata": {},
   "outputs": [],
   "source": []
  },
  {
   "cell_type": "code",
   "execution_count": null,
   "id": "a8512265",
   "metadata": {},
   "outputs": [],
   "source": []
  },
  {
   "cell_type": "code",
   "execution_count": null,
   "id": "ffa9fe1b",
   "metadata": {},
   "outputs": [],
   "source": [
    "#7.Write a Python program to count the number of strings where the string length is 2 or more and the first and last character are same from a given list of strings \n",
    "\n"
   ]
  },
  {
   "cell_type": "code",
   "execution_count": 9,
   "id": "5e99bc57",
   "metadata": {},
   "outputs": [
    {
     "name": "stdout",
     "output_type": "stream",
     "text": [
      "[1, 2, 3, 2, 4, 8, 9, 1, 7, 6, 4, 5]\n",
      "[1, 2, 3, 4, 5, 6, 7, 8, 9]\n"
     ]
    }
   ],
   "source": [
    "#8.Write a Python program to remove duplicates from a list.\n",
    "\n",
    "str1 = [1, 2, 3, 2, 4, 8, 9, 1, 7, 6, 4, 5]\n",
    "print(str1)\n",
    "\n",
    "var1 = set(str1)\n",
    "list1= list(var1)\n",
    "   \n",
    "print(uniqList)"
   ]
  },
  {
   "cell_type": "code",
   "execution_count": 6,
   "id": "9b30785d",
   "metadata": {},
   "outputs": [
    {
     "name": "stdout",
     "output_type": "stream",
     "text": [
      "Empty\n"
     ]
    }
   ],
   "source": [
    "#9.Write a Python program to check a list is empty or not.\n",
    "\n",
    "list1 = []\n",
    "\n",
    "if len(list1) == 0:\n",
    "    print(\"Empty\")\n",
    "else:\n",
    "    print(\"Not Empty\")"
   ]
  },
  {
   "cell_type": "code",
   "execution_count": null,
   "id": "8d7e1452",
   "metadata": {},
   "outputs": [],
   "source": [
    "#10.Write a Python function that takes two lists and returns true if they have at least one common member\n",
    "\n"
   ]
  },
  {
   "cell_type": "code",
   "execution_count": null,
   "id": "53deec74",
   "metadata": {},
   "outputs": [],
   "source": []
  },
  {
   "cell_type": "code",
   "execution_count": null,
   "id": "fddfee95",
   "metadata": {},
   "outputs": [],
   "source": []
  },
  {
   "cell_type": "code",
   "execution_count": null,
   "id": "3d8802e9",
   "metadata": {},
   "outputs": [],
   "source": []
  },
  {
   "cell_type": "code",
   "execution_count": null,
   "id": "9b299377",
   "metadata": {},
   "outputs": [],
   "source": []
  },
  {
   "cell_type": "code",
   "execution_count": null,
   "id": "7972e75f",
   "metadata": {},
   "outputs": [],
   "source": []
  },
  {
   "cell_type": "code",
   "execution_count": null,
   "id": "fbad0f42",
   "metadata": {},
   "outputs": [],
   "source": []
  }
 ],
 "metadata": {
  "kernelspec": {
   "display_name": "Python 3 (ipykernel)",
   "language": "python",
   "name": "python3"
  },
  "language_info": {
   "codemirror_mode": {
    "name": "ipython",
    "version": 3
   },
   "file_extension": ".py",
   "mimetype": "text/x-python",
   "name": "python",
   "nbconvert_exporter": "python",
   "pygments_lexer": "ipython3",
   "version": "3.9.12"
  }
 },
 "nbformat": 4,
 "nbformat_minor": 5
}
